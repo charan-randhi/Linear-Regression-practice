{
 "cells": [
  {
   "cell_type": "markdown",
   "metadata": {},
   "source": [
    "<table align=\"center\" width=100%>\n",
    "    <tr>\n",
    "        <td width=\"15%\">\n",
    "            <img src=\"in_class.png\">\n",
    "        </td>\n",
    "        <td>\n",
    "            <div align=\"center\">\n",
    "                <font color=\"#21618C\" size=8px>\n",
    "                    <b> Inclass - Lab <br>(Day 3)\n",
    "                    </b>\n",
    "                </font>\n",
    "            </div>\n",
    "        </td>\n",
    "    </tr>\n",
    "</table>"
   ]
  },
  {
   "cell_type": "markdown",
   "metadata": {},
   "source": [
    "### About the data set  (Life Expectancy data)\n",
    "\n",
    "The dataset contains information about several health and economic factors that contribute to average life expectancy for different countries. <br> Attribute information: \n",
    "\n",
    "**Country:** Name of the country\n",
    "\n",
    "**Year:** Year the observations were recorded\n",
    "\n",
    "**Status:** Whether the country is Developed or Developing\n",
    "\n",
    "**Adult_Mortality:** Mortality rate for age group 15-60 out of every 1000 individuals of the population\n",
    "\n",
    "**Infant_Deaths:** Number of infant deaths per 1000 population\n",
    "\n",
    "**Alcohol:** Alcohol, recorded per capita (15+) consumption (in litres of pure alcohol)\n",
    "\n",
    "**Hepatitis B:** Hepatitis B (HepB) immunization coverage for 1 year olds (Percentage)\n",
    "\n",
    "**Measles:** Number of reported cases for measles per 1000 from population\n",
    "\n",
    "**BMI:** Average Body Mass Index for entire population\n",
    "\n",
    "**Underfive_Deaths:** Number of deaths under 5 years of age per 1000 population\n",
    "\n",
    "**Polio:** Polio (Pol3) immunization coverage for 1 year olds (Percentage)\n",
    "\n",
    "**Diphtheria:** Diphtheria tetanus toxoid and pertussis (DTP3) immunization coverage for 1 year olds (Percentage)\n",
    "\n",
    "**HIV:** Deaths per 1000 live births due to HIV/AIDS (0-4 years)\n",
    "\n",
    "**GDP:** Gross Domestic Product per capita (in USD)\n",
    "\n",
    "**Population:** Population of the country\n",
    "\n",
    "**Malnourished10_19:** Prevalence of malnutrition among children and adolescents for Age 10 to 19 (Percentage)\n",
    "\n",
    "**Malnourished5_9:** Prevalence of malnutrition among children for Age 5 to 9 (Percentage)\n",
    "\n",
    "**Income_Index:** Human Development Index (HDI) in terms of national income per capita (index ranging from 0 to 1)\n",
    "\n",
    "**Schooling:** Number of years of Schooling\n",
    "\n",
    "**Life_Expectancy:** Life Expectancy in age for the country\n"
   ]
  },
  {
   "cell_type": "markdown",
   "metadata": {},
   "source": [
    "##  Table of Content\n",
    "\n",
    "1. **[Data Preparation](#eda)**\n",
    "2. **[Linear Regression](#lf)**\n",
    "3. **[Gradient Descent](#gd)**\n",
    "4. **[Regularization](#reg)**\n",
    "5. **[Grid Search](#gs)**"
   ]
  },
  {
   "cell_type": "markdown",
   "metadata": {},
   "source": [
    "**Import the required libraries**"
   ]
  },
  {
   "cell_type": "code",
   "execution_count": 2,
   "metadata": {},
   "outputs": [],
   "source": [
    "import numpy as np\n",
    "import pandas as pd\n",
    "import seaborn as sns\n",
    "import matplotlib.pyplot as plt\n",
    "import scipy.stats as stats"
   ]
  },
  {
   "cell_type": "markdown",
   "metadata": {},
   "source": [
    "#### Load the Life expectancy dataset and display the first five records "
   ]
  },
  {
   "cell_type": "code",
   "execution_count": 3,
   "metadata": {},
   "outputs": [
    {
     "data": {
      "text/html": [
       "<div>\n",
       "<style scoped>\n",
       "    .dataframe tbody tr th:only-of-type {\n",
       "        vertical-align: middle;\n",
       "    }\n",
       "\n",
       "    .dataframe tbody tr th {\n",
       "        vertical-align: top;\n",
       "    }\n",
       "\n",
       "    .dataframe thead th {\n",
       "        text-align: right;\n",
       "    }\n",
       "</style>\n",
       "<table border=\"1\" class=\"dataframe\">\n",
       "  <thead>\n",
       "    <tr style=\"text-align: right;\">\n",
       "      <th></th>\n",
       "      <th>Year</th>\n",
       "      <th>Status</th>\n",
       "      <th>Adult_Mortality</th>\n",
       "      <th>Infant_Deaths</th>\n",
       "      <th>Alcohol</th>\n",
       "      <th>Hepatitis B</th>\n",
       "      <th>Measles</th>\n",
       "      <th>BMI</th>\n",
       "      <th>Underfive_Deaths</th>\n",
       "      <th>Polio</th>\n",
       "      <th>Diphtheria</th>\n",
       "      <th>HIV</th>\n",
       "      <th>GDP</th>\n",
       "      <th>Population</th>\n",
       "      <th>Malnourished10_19</th>\n",
       "      <th>Malnourished5_9</th>\n",
       "      <th>Income_Index</th>\n",
       "      <th>Schooling</th>\n",
       "      <th>Life_Expectancy</th>\n",
       "    </tr>\n",
       "    <tr>\n",
       "      <th>Country</th>\n",
       "      <th></th>\n",
       "      <th></th>\n",
       "      <th></th>\n",
       "      <th></th>\n",
       "      <th></th>\n",
       "      <th></th>\n",
       "      <th></th>\n",
       "      <th></th>\n",
       "      <th></th>\n",
       "      <th></th>\n",
       "      <th></th>\n",
       "      <th></th>\n",
       "      <th></th>\n",
       "      <th></th>\n",
       "      <th></th>\n",
       "      <th></th>\n",
       "      <th></th>\n",
       "      <th></th>\n",
       "      <th></th>\n",
       "    </tr>\n",
       "  </thead>\n",
       "  <tbody>\n",
       "    <tr>\n",
       "      <td>Afghanistan</td>\n",
       "      <td>2015</td>\n",
       "      <td>Developing</td>\n",
       "      <td>263.0</td>\n",
       "      <td>62</td>\n",
       "      <td>0.01</td>\n",
       "      <td>65.0</td>\n",
       "      <td>1154</td>\n",
       "      <td>19.1</td>\n",
       "      <td>83</td>\n",
       "      <td>6</td>\n",
       "      <td>65</td>\n",
       "      <td>0.1</td>\n",
       "      <td>584.259210</td>\n",
       "      <td>33736494.0</td>\n",
       "      <td>17.2</td>\n",
       "      <td>17.3</td>\n",
       "      <td>0.479</td>\n",
       "      <td>10.1</td>\n",
       "      <td>65.0</td>\n",
       "    </tr>\n",
       "    <tr>\n",
       "      <td>Albania</td>\n",
       "      <td>2015</td>\n",
       "      <td>Developing</td>\n",
       "      <td>74.0</td>\n",
       "      <td>0</td>\n",
       "      <td>4.60</td>\n",
       "      <td>99.0</td>\n",
       "      <td>0</td>\n",
       "      <td>58.0</td>\n",
       "      <td>0</td>\n",
       "      <td>99</td>\n",
       "      <td>99</td>\n",
       "      <td>0.1</td>\n",
       "      <td>3954.227830</td>\n",
       "      <td>28873.0</td>\n",
       "      <td>1.2</td>\n",
       "      <td>1.3</td>\n",
       "      <td>0.762</td>\n",
       "      <td>14.2</td>\n",
       "      <td>77.8</td>\n",
       "    </tr>\n",
       "    <tr>\n",
       "      <td>Algeria</td>\n",
       "      <td>2015</td>\n",
       "      <td>Developing</td>\n",
       "      <td>19.0</td>\n",
       "      <td>21</td>\n",
       "      <td>NaN</td>\n",
       "      <td>95.0</td>\n",
       "      <td>63</td>\n",
       "      <td>59.5</td>\n",
       "      <td>24</td>\n",
       "      <td>95</td>\n",
       "      <td>95</td>\n",
       "      <td>0.1</td>\n",
       "      <td>4132.762920</td>\n",
       "      <td>39871528.0</td>\n",
       "      <td>6.0</td>\n",
       "      <td>5.8</td>\n",
       "      <td>0.743</td>\n",
       "      <td>14.4</td>\n",
       "      <td>75.6</td>\n",
       "    </tr>\n",
       "    <tr>\n",
       "      <td>Angola</td>\n",
       "      <td>2015</td>\n",
       "      <td>Developing</td>\n",
       "      <td>335.0</td>\n",
       "      <td>66</td>\n",
       "      <td>NaN</td>\n",
       "      <td>64.0</td>\n",
       "      <td>118</td>\n",
       "      <td>23.3</td>\n",
       "      <td>98</td>\n",
       "      <td>7</td>\n",
       "      <td>64</td>\n",
       "      <td>1.9</td>\n",
       "      <td>3695.793748</td>\n",
       "      <td>2785935.0</td>\n",
       "      <td>8.3</td>\n",
       "      <td>8.2</td>\n",
       "      <td>0.531</td>\n",
       "      <td>11.4</td>\n",
       "      <td>52.4</td>\n",
       "    </tr>\n",
       "    <tr>\n",
       "      <td>Antigua</td>\n",
       "      <td>2015</td>\n",
       "      <td>Developing</td>\n",
       "      <td>13.0</td>\n",
       "      <td>0</td>\n",
       "      <td>NaN</td>\n",
       "      <td>99.0</td>\n",
       "      <td>0</td>\n",
       "      <td>47.7</td>\n",
       "      <td>0</td>\n",
       "      <td>86</td>\n",
       "      <td>99</td>\n",
       "      <td>0.2</td>\n",
       "      <td>13566.954100</td>\n",
       "      <td>NaN</td>\n",
       "      <td>3.3</td>\n",
       "      <td>3.3</td>\n",
       "      <td>0.784</td>\n",
       "      <td>13.9</td>\n",
       "      <td>76.4</td>\n",
       "    </tr>\n",
       "  </tbody>\n",
       "</table>\n",
       "</div>"
      ],
      "text/plain": [
       "             Year      Status  Adult_Mortality  Infant_Deaths  Alcohol  \\\n",
       "Country                                                                  \n",
       "Afghanistan  2015  Developing            263.0             62     0.01   \n",
       "Albania      2015  Developing             74.0              0     4.60   \n",
       "Algeria      2015  Developing             19.0             21      NaN   \n",
       "Angola       2015  Developing            335.0             66      NaN   \n",
       "Antigua      2015  Developing             13.0              0      NaN   \n",
       "\n",
       "             Hepatitis B  Measles    BMI  Underfive_Deaths   Polio  \\\n",
       "Country                                                              \n",
       "Afghanistan         65.0      1154  19.1                 83      6   \n",
       "Albania             99.0         0  58.0                  0     99   \n",
       "Algeria             95.0        63  59.5                 24     95   \n",
       "Angola              64.0       118  23.3                 98      7   \n",
       "Antigua             99.0         0  47.7                  0     86   \n",
       "\n",
       "             Diphtheria   HIV           GDP  Population  Malnourished10_19  \\\n",
       "Country                                                                      \n",
       "Afghanistan           65  0.1    584.259210  33736494.0               17.2   \n",
       "Albania               99  0.1   3954.227830     28873.0                1.2   \n",
       "Algeria               95  0.1   4132.762920  39871528.0                6.0   \n",
       "Angola                64  1.9   3695.793748   2785935.0                8.3   \n",
       "Antigua               99  0.2  13566.954100         NaN                3.3   \n",
       "\n",
       "             Malnourished5_9  Income_Index  Schooling  Life_Expectancy  \n",
       "Country                                                                 \n",
       "Afghanistan             17.3         0.479       10.1             65.0  \n",
       "Albania                  1.3         0.762       14.2             77.8  \n",
       "Algeria                  5.8         0.743       14.4             75.6  \n",
       "Angola                   8.2         0.531       11.4             52.4  \n",
       "Antigua                  3.3         0.784       13.9             76.4  "
      ]
     },
     "execution_count": 3,
     "metadata": {},
     "output_type": "execute_result"
    }
   ],
   "source": [
    "# load the csv file\n",
    "\n",
    "df=pd.read_csv(\"C:/Users/sai/Desktop/New folder (10)/Day 3/Life_Expectancy.csv\",index_col=0)\n",
    "\n",
    "# display the first five observations\n",
    "\n",
    "df.head()"
   ]
  },
  {
   "cell_type": "markdown",
   "metadata": {},
   "source": [
    "#### Check the shape of the data and display its information"
   ]
  },
  {
   "cell_type": "code",
   "execution_count": 7,
   "metadata": {
    "scrolled": true
   },
   "outputs": [
    {
     "data": {
      "text/plain": [
       "(182, 19)"
      ]
     },
     "execution_count": 7,
     "metadata": {},
     "output_type": "execute_result"
    }
   ],
   "source": [
    "# check the size of the dataframe\n",
    "\n",
    "df.shape"
   ]
  },
  {
   "cell_type": "code",
   "execution_count": 8,
   "metadata": {},
   "outputs": [
    {
     "name": "stdout",
     "output_type": "stream",
     "text": [
      "<class 'pandas.core.frame.DataFrame'>\n",
      "Index: 182 entries, Afghanistan to Zimbabwe\n",
      "Data columns (total 19 columns):\n",
      "Year                 182 non-null int64\n",
      "Status               182 non-null object\n",
      "Adult_Mortality      173 non-null float64\n",
      "Infant_Deaths        182 non-null int64\n",
      "Alcohol              15 non-null float64\n",
      "Hepatitis B          173 non-null float64\n",
      "Measles              182 non-null int64\n",
      "BMI                  178 non-null float64\n",
      "Underfive_Deaths     182 non-null int64\n",
      "Polio                182 non-null int64\n",
      "Diphtheria           182 non-null int64\n",
      "HIV                  182 non-null float64\n",
      "GDP                  157 non-null float64\n",
      "Population           141 non-null float64\n",
      "Malnourished10_19    178 non-null float64\n",
      "Malnourished5_9      178 non-null float64\n",
      "Income_Index         169 non-null float64\n",
      "Schooling            173 non-null float64\n",
      "Life_Expectancy      173 non-null float64\n",
      "dtypes: float64(12), int64(6), object(1)\n",
      "memory usage: 28.4+ KB\n"
     ]
    }
   ],
   "source": [
    "# display dataset information understand the dataset\n",
    "\n",
    "df.info()"
   ]
  },
  {
   "cell_type": "code",
   "execution_count": 9,
   "metadata": {},
   "outputs": [],
   "source": [
    "# From above information, we can say that there are few null values in the dataset.\n",
    "\n",
    "# Also, in the datset, only categorical column is Status and remaining all are continuous or dummy_varaible columns."
   ]
  },
  {
   "cell_type": "markdown",
   "metadata": {},
   "source": [
    "### Let's begin with some hands-on practice exercises"
   ]
  },
  {
   "cell_type": "markdown",
   "metadata": {},
   "source": [
    "<a id=\"eda\"> </a>\n",
    "## 1. Data Preparation"
   ]
  },
  {
   "cell_type": "markdown",
   "metadata": {
    "collapsed": true
   },
   "source": [
    "<table align=\"left\">\n",
    "    <tr>\n",
    "        <td width=\"6%\">\n",
    "            <img src=\"question_icon.png\">\n",
    "        </td>\n",
    "        <td>\n",
    "            <div align=\"left\", style=\"font-size:120%\">\n",
    "                <font color=\"#21618C\">\n",
    "                    <b>1. The dataset gives the life expectancy for different countries. Check if any information about life expectancy is missing from the given records. How do we fix the problem if present?</b>\n",
    "                </font>\n",
    "            </div>\n",
    "        </td>\n",
    "    </tr>\n",
    "</table>"
   ]
  },
  {
   "cell_type": "code",
   "execution_count": 10,
   "metadata": {},
   "outputs": [
    {
     "data": {
      "text/plain": [
       "array([65. , 77.8, 75.6, 52.4, 76.4, 76.3, 74.8, 82.8, 81.5, 72.7, 76.1,\n",
       "       76.9, 71.8, 75.5, 72.3, 81.1, 71. , 60. , 69.8, 77. , 77.4, 65.7,\n",
       "       75. , 77.7, 74.5, 59.9, 59.6, 73.3, 68.7, 57.3, 82.2, 52.5, 53.1,\n",
       "       85. , 76.1, 74.8, 63.5, 64.7, 79.6, 78. , 79.1, 85. , 78.8, 76. ,\n",
       "       86. , 63.5,  nan, 73.9, 76.2, 79. , 73.5, 58.2, 64.7, 77.6, 64.8,\n",
       "       69.9, 81.1, 82.4, 66. , 61.1, 74.4, 81. , 62.4, 81. , 73.6, 71.9,\n",
       "       59. , 66.2, 63.5, 74.6, 75.8, 82.7, 68.3, 69.1, 75.5, 68.9, 81.4,\n",
       "       82.5, 82.7, 76.2, 83.7, 74.1, 72. , 63.4, 66.3, 74.7, 71.1, 74.6,\n",
       "       74.9, 53.7, 61.4, 72.7, 73.6, 82. , 65.5, 58.3, 75. , 78.5, 58.2,\n",
       "       81.7,  nan, 63.1, 74.6, 76.7,  nan, 68.8, 76.1, 73.9, 57.6, 66.6,\n",
       "       65.8,  nan, 69.2, 81.9, 81.6, 74.8, 61.8, 54.5,  nan, 81.8, 76.6,\n",
       "       66.4,  nan, 77.8, 74. , 75.5, 68.5, 77.5, 81.1, 78.2, 82.3, 72.1,\n",
       "       75. , 75. , 66.1,  nan, 75.2, 74. ,  nan, 74.5, 66.7, 75.6, 73.2,\n",
       "       51. , 83.1, 76.7, 88. , 69.2, 55. , 62.9, 57.3, 82.8, 74.9, 64.1,\n",
       "       71.6, 58.9, 82.4, 83.4, 64.5, 69.7, 74.9, 68.3, 59.9, 73.5, 71.2,\n",
       "       75.3, 75.8, 66.3,  nan, 62.3, 71.3, 77.1, 81.2, 79.3, 77. , 69.4,\n",
       "       72. , 74.1, 76. , 65.7, 61.8, 67. ])"
      ]
     },
     "execution_count": 10,
     "metadata": {},
     "output_type": "execute_result"
    }
   ],
   "source": [
    "df['Life_Expectancy'].values"
   ]
  },
  {
   "cell_type": "code",
   "execution_count": 11,
   "metadata": {},
   "outputs": [
    {
     "data": {
      "text/plain": [
       "9"
      ]
     },
     "execution_count": 11,
     "metadata": {},
     "output_type": "execute_result"
    }
   ],
   "source": [
    "df['Life_Expectancy'].isna().sum()"
   ]
  },
  {
   "cell_type": "raw",
   "metadata": {},
   "source": [
    "There are 9-null values in the life expectancy column. So, we can fill the null values by using ffill as it will not change the mean and distribution of the data."
   ]
  },
  {
   "cell_type": "code",
   "execution_count": 12,
   "metadata": {},
   "outputs": [
    {
     "data": {
      "text/plain": [
       "0"
      ]
     },
     "execution_count": 12,
     "metadata": {},
     "output_type": "execute_result"
    }
   ],
   "source": [
    "df['Life_Expectancy'].fillna(method='ffill',inplace=True)\n",
    "\n",
    "df['Life_Expectancy'].isna().sum()"
   ]
  },
  {
   "cell_type": "markdown",
   "metadata": {
    "collapsed": true
   },
   "source": [
    "<table align=\"left\">\n",
    "    <tr>\n",
    "        <td width=\"6%\">\n",
    "            <img src=\"question_icon.png\">\n",
    "        </td>\n",
    "        <td>\n",
    "            <div align=\"left\", style=\"font-size:120%\">\n",
    "                <font color=\"#21618C\">\n",
    "                    <b>2. How do we handle the missing values from the entire dataset?</b>\n",
    "                </font>\n",
    "            </div>\n",
    "        </td>\n",
    "    </tr>\n",
    "</table>"
   ]
  },
  {
   "cell_type": "code",
   "execution_count": 13,
   "metadata": {},
   "outputs": [
    {
     "data": {
      "text/plain": [
       "Year                   0\n",
       "Status                 0\n",
       "Adult_Mortality        9\n",
       "Infant_Deaths          0\n",
       "Alcohol              167\n",
       "Hepatitis B            9\n",
       "Measles                0\n",
       "BMI                    4\n",
       "Underfive_Deaths       0\n",
       "Polio                  0\n",
       "Diphtheria             0\n",
       "HIV                    0\n",
       "GDP                   25\n",
       "Population            41\n",
       "Malnourished10_19      4\n",
       "Malnourished5_9        4\n",
       "Income_Index          13\n",
       "Schooling              9\n",
       "Life_Expectancy        0\n",
       "dtype: int64"
      ]
     },
     "execution_count": 13,
     "metadata": {},
     "output_type": "execute_result"
    }
   ],
   "source": [
    "df.isna().sum()"
   ]
  },
  {
   "cell_type": "raw",
   "metadata": {},
   "source": [
    "The alcohol column has 80% nulls, so it would be better to drop that column.\n",
    "And for other columns, we will use the ffill to fill the null values as ffill will not change the mean and distribution of the data."
   ]
  },
  {
   "cell_type": "code",
   "execution_count": 14,
   "metadata": {},
   "outputs": [],
   "source": [
    "df.drop('Alcohol',axis=1,inplace=True)\n",
    "\n",
    "df.fillna(method='ffill',inplace=True)"
   ]
  },
  {
   "cell_type": "code",
   "execution_count": 15,
   "metadata": {},
   "outputs": [
    {
     "data": {
      "text/plain": [
       "Year                 0\n",
       "Status               0\n",
       "Adult_Mortality      0\n",
       "Infant_Deaths        0\n",
       "Hepatitis B          0\n",
       "Measles              0\n",
       "BMI                  0\n",
       "Underfive_Deaths     0\n",
       "Polio                0\n",
       "Diphtheria           0\n",
       "HIV                  0\n",
       "GDP                  0\n",
       "Population           0\n",
       "Malnourished10_19    0\n",
       "Malnourished5_9      0\n",
       "Income_Index         0\n",
       "Schooling            0\n",
       "Life_Expectancy      0\n",
       "dtype: int64"
      ]
     },
     "execution_count": 15,
     "metadata": {},
     "output_type": "execute_result"
    }
   ],
   "source": [
    "df.isna().sum()"
   ]
  },
  {
   "cell_type": "markdown",
   "metadata": {
    "collapsed": true
   },
   "source": [
    "<table align=\"left\">\n",
    "    <tr>\n",
    "        <td width=\"6%\">\n",
    "            <img src=\"question_icon.png\">\n",
    "        </td>\n",
    "        <td>\n",
    "            <div align=\"left\", style=\"font-size:120%\">\n",
    "                <font color=\"#21618C\">\n",
    "                    <b>3. Are there any redundant features in the data?</b>\n",
    "                </font>\n",
    "            </div>\n",
    "        </td>\n",
    "    </tr>\n",
    "</table>"
   ]
  },
  {
   "cell_type": "code",
   "execution_count": 16,
   "metadata": {},
   "outputs": [
    {
     "data": {
      "text/plain": [
       "Year                 2.088519e-01\n",
       "Adult_Mortality      9.117217e+03\n",
       "Infant_Deaths        6.772822e+03\n",
       "Hepatitis B          6.238208e+02\n",
       "Measles              6.177849e+07\n",
       "BMI                  4.536281e+02\n",
       "Underfive_Deaths     1.121574e+04\n",
       "Polio                6.236836e+02\n",
       "Diphtheria           5.270706e+02\n",
       "HIV                  1.776435e+00\n",
       "GDP                  1.723885e+08\n",
       "Population           1.170802e+15\n",
       "Malnourished10_19    1.751391e+01\n",
       "Malnourished5_9      1.821535e+01\n",
       "Income_Index         2.291773e-02\n",
       "Schooling            9.956479e+00\n",
       "Life_Expectancy      6.479353e+01\n",
       "dtype: float64"
      ]
     },
     "execution_count": 16,
     "metadata": {},
     "output_type": "execute_result"
    }
   ],
   "source": [
    "df.var()"
   ]
  },
  {
   "cell_type": "raw",
   "metadata": {},
   "source": [
    "Seems like all the varaibles are important."
   ]
  },
  {
   "cell_type": "markdown",
   "metadata": {
    "collapsed": true
   },
   "source": [
    "<table align=\"left\">\n",
    "    <tr>\n",
    "        <td width=\"6%\">\n",
    "            <img src=\"question_icon.png\">\n",
    "        </td>\n",
    "        <td>\n",
    "            <div align=\"left\", style=\"font-size:120%\">\n",
    "                <font color=\"#21618C\">\n",
    "                    <b>4. Perform dummy encoding for appropriate variables of the dataset if required</b>\n",
    "                </font>\n",
    "            </div>\n",
    "        </td>\n",
    "    </tr>\n",
    "</table>"
   ]
  },
  {
   "cell_type": "code",
   "execution_count": 17,
   "metadata": {},
   "outputs": [
    {
     "name": "stdout",
     "output_type": "stream",
     "text": [
      "<class 'pandas.core.frame.DataFrame'>\n",
      "Index: 182 entries, Afghanistan to Zimbabwe\n",
      "Data columns (total 18 columns):\n",
      "Year                 182 non-null int64\n",
      "Status               182 non-null object\n",
      "Adult_Mortality      182 non-null float64\n",
      "Infant_Deaths        182 non-null int64\n",
      "Hepatitis B          182 non-null float64\n",
      "Measles              182 non-null int64\n",
      "BMI                  182 non-null float64\n",
      "Underfive_Deaths     182 non-null int64\n",
      "Polio                182 non-null int64\n",
      "Diphtheria           182 non-null int64\n",
      "HIV                  182 non-null float64\n",
      "GDP                  182 non-null float64\n",
      "Population           182 non-null float64\n",
      "Malnourished10_19    182 non-null float64\n",
      "Malnourished5_9      182 non-null float64\n",
      "Income_Index         182 non-null float64\n",
      "Schooling            182 non-null float64\n",
      "Life_Expectancy      182 non-null float64\n",
      "dtypes: float64(11), int64(6), object(1)\n",
      "memory usage: 27.0+ KB\n"
     ]
    }
   ],
   "source": [
    "df.info()"
   ]
  },
  {
   "cell_type": "code",
   "execution_count": 18,
   "metadata": {},
   "outputs": [],
   "source": [
    "# Status is the only categorcial column(dtype=object). So do dummy encoding for status column alone."
   ]
  },
  {
   "cell_type": "code",
   "execution_count": 19,
   "metadata": {},
   "outputs": [
    {
     "data": {
      "text/html": [
       "<div>\n",
       "<style scoped>\n",
       "    .dataframe tbody tr th:only-of-type {\n",
       "        vertical-align: middle;\n",
       "    }\n",
       "\n",
       "    .dataframe tbody tr th {\n",
       "        vertical-align: top;\n",
       "    }\n",
       "\n",
       "    .dataframe thead th {\n",
       "        text-align: right;\n",
       "    }\n",
       "</style>\n",
       "<table border=\"1\" class=\"dataframe\">\n",
       "  <thead>\n",
       "    <tr style=\"text-align: right;\">\n",
       "      <th></th>\n",
       "      <th>Year</th>\n",
       "      <th>Adult_Mortality</th>\n",
       "      <th>Infant_Deaths</th>\n",
       "      <th>Hepatitis B</th>\n",
       "      <th>Measles</th>\n",
       "      <th>BMI</th>\n",
       "      <th>Underfive_Deaths</th>\n",
       "      <th>Polio</th>\n",
       "      <th>Diphtheria</th>\n",
       "      <th>HIV</th>\n",
       "      <th>GDP</th>\n",
       "      <th>Population</th>\n",
       "      <th>Malnourished10_19</th>\n",
       "      <th>Malnourished5_9</th>\n",
       "      <th>Income_Index</th>\n",
       "      <th>Schooling</th>\n",
       "      <th>Life_Expectancy</th>\n",
       "      <th>Status_Developing</th>\n",
       "    </tr>\n",
       "    <tr>\n",
       "      <th>Country</th>\n",
       "      <th></th>\n",
       "      <th></th>\n",
       "      <th></th>\n",
       "      <th></th>\n",
       "      <th></th>\n",
       "      <th></th>\n",
       "      <th></th>\n",
       "      <th></th>\n",
       "      <th></th>\n",
       "      <th></th>\n",
       "      <th></th>\n",
       "      <th></th>\n",
       "      <th></th>\n",
       "      <th></th>\n",
       "      <th></th>\n",
       "      <th></th>\n",
       "      <th></th>\n",
       "      <th></th>\n",
       "    </tr>\n",
       "  </thead>\n",
       "  <tbody>\n",
       "    <tr>\n",
       "      <td>Afghanistan</td>\n",
       "      <td>2015</td>\n",
       "      <td>263.0</td>\n",
       "      <td>62</td>\n",
       "      <td>65.0</td>\n",
       "      <td>1154</td>\n",
       "      <td>19.1</td>\n",
       "      <td>83</td>\n",
       "      <td>6</td>\n",
       "      <td>65</td>\n",
       "      <td>0.1</td>\n",
       "      <td>584.259210</td>\n",
       "      <td>33736494.0</td>\n",
       "      <td>17.2</td>\n",
       "      <td>17.3</td>\n",
       "      <td>0.479</td>\n",
       "      <td>10.1</td>\n",
       "      <td>65.0</td>\n",
       "      <td>1</td>\n",
       "    </tr>\n",
       "    <tr>\n",
       "      <td>Albania</td>\n",
       "      <td>2015</td>\n",
       "      <td>74.0</td>\n",
       "      <td>0</td>\n",
       "      <td>99.0</td>\n",
       "      <td>0</td>\n",
       "      <td>58.0</td>\n",
       "      <td>0</td>\n",
       "      <td>99</td>\n",
       "      <td>99</td>\n",
       "      <td>0.1</td>\n",
       "      <td>3954.227830</td>\n",
       "      <td>28873.0</td>\n",
       "      <td>1.2</td>\n",
       "      <td>1.3</td>\n",
       "      <td>0.762</td>\n",
       "      <td>14.2</td>\n",
       "      <td>77.8</td>\n",
       "      <td>1</td>\n",
       "    </tr>\n",
       "    <tr>\n",
       "      <td>Algeria</td>\n",
       "      <td>2015</td>\n",
       "      <td>19.0</td>\n",
       "      <td>21</td>\n",
       "      <td>95.0</td>\n",
       "      <td>63</td>\n",
       "      <td>59.5</td>\n",
       "      <td>24</td>\n",
       "      <td>95</td>\n",
       "      <td>95</td>\n",
       "      <td>0.1</td>\n",
       "      <td>4132.762920</td>\n",
       "      <td>39871528.0</td>\n",
       "      <td>6.0</td>\n",
       "      <td>5.8</td>\n",
       "      <td>0.743</td>\n",
       "      <td>14.4</td>\n",
       "      <td>75.6</td>\n",
       "      <td>1</td>\n",
       "    </tr>\n",
       "    <tr>\n",
       "      <td>Angola</td>\n",
       "      <td>2015</td>\n",
       "      <td>335.0</td>\n",
       "      <td>66</td>\n",
       "      <td>64.0</td>\n",
       "      <td>118</td>\n",
       "      <td>23.3</td>\n",
       "      <td>98</td>\n",
       "      <td>7</td>\n",
       "      <td>64</td>\n",
       "      <td>1.9</td>\n",
       "      <td>3695.793748</td>\n",
       "      <td>2785935.0</td>\n",
       "      <td>8.3</td>\n",
       "      <td>8.2</td>\n",
       "      <td>0.531</td>\n",
       "      <td>11.4</td>\n",
       "      <td>52.4</td>\n",
       "      <td>1</td>\n",
       "    </tr>\n",
       "    <tr>\n",
       "      <td>Antigua</td>\n",
       "      <td>2015</td>\n",
       "      <td>13.0</td>\n",
       "      <td>0</td>\n",
       "      <td>99.0</td>\n",
       "      <td>0</td>\n",
       "      <td>47.7</td>\n",
       "      <td>0</td>\n",
       "      <td>86</td>\n",
       "      <td>99</td>\n",
       "      <td>0.2</td>\n",
       "      <td>13566.954100</td>\n",
       "      <td>2785935.0</td>\n",
       "      <td>3.3</td>\n",
       "      <td>3.3</td>\n",
       "      <td>0.784</td>\n",
       "      <td>13.9</td>\n",
       "      <td>76.4</td>\n",
       "      <td>1</td>\n",
       "    </tr>\n",
       "  </tbody>\n",
       "</table>\n",
       "</div>"
      ],
      "text/plain": [
       "             Year  Adult_Mortality  Infant_Deaths  Hepatitis B  Measles   \\\n",
       "Country                                                                    \n",
       "Afghanistan  2015            263.0             62         65.0      1154   \n",
       "Albania      2015             74.0              0         99.0         0   \n",
       "Algeria      2015             19.0             21         95.0        63   \n",
       "Angola       2015            335.0             66         64.0       118   \n",
       "Antigua      2015             13.0              0         99.0         0   \n",
       "\n",
       "              BMI  Underfive_Deaths   Polio  Diphtheria   HIV           GDP  \\\n",
       "Country                                                                       \n",
       "Afghanistan  19.1                 83      6           65  0.1    584.259210   \n",
       "Albania      58.0                  0     99           99  0.1   3954.227830   \n",
       "Algeria      59.5                 24     95           95  0.1   4132.762920   \n",
       "Angola       23.3                 98      7           64  1.9   3695.793748   \n",
       "Antigua      47.7                  0     86           99  0.2  13566.954100   \n",
       "\n",
       "             Population  Malnourished10_19  Malnourished5_9  Income_Index  \\\n",
       "Country                                                                     \n",
       "Afghanistan  33736494.0               17.2             17.3         0.479   \n",
       "Albania         28873.0                1.2              1.3         0.762   \n",
       "Algeria      39871528.0                6.0              5.8         0.743   \n",
       "Angola        2785935.0                8.3              8.2         0.531   \n",
       "Antigua       2785935.0                3.3              3.3         0.784   \n",
       "\n",
       "             Schooling  Life_Expectancy  Status_Developing  \n",
       "Country                                                     \n",
       "Afghanistan       10.1             65.0                  1  \n",
       "Albania           14.2             77.8                  1  \n",
       "Algeria           14.4             75.6                  1  \n",
       "Angola            11.4             52.4                  1  \n",
       "Antigua           13.9             76.4                  1  "
      ]
     },
     "execution_count": 19,
     "metadata": {},
     "output_type": "execute_result"
    }
   ],
   "source": [
    "df=pd.get_dummies(df,columns=['Status'],drop_first=True)\n",
    "df.head()"
   ]
  },
  {
   "cell_type": "markdown",
   "metadata": {},
   "source": [
    "<a id=\"lf\"> </a>\n",
    "## 2. Linear Regression"
   ]
  },
  {
   "cell_type": "markdown",
   "metadata": {
    "collapsed": true
   },
   "source": [
    "<table align=\"left\">\n",
    "    <tr>\n",
    "        <td width=\"6%\">\n",
    "            <img src=\"question_icon.png\">\n",
    "        </td>\n",
    "        <td>\n",
    "            <div align=\"left\", style=\"font-size:120%\">\n",
    "                <font color=\"#21618C\">\n",
    "                    <b>5.  Build a full model on the given data. Check whether the obtained residuals have constant variance\n",
    "</b>\n",
    "                </font>\n",
    "            </div>\n",
    "        </td>\n",
    "    </tr>\n",
    "</table>"
   ]
  },
  {
   "cell_type": "code",
   "execution_count": 20,
   "metadata": {},
   "outputs": [
    {
     "name": "stderr",
     "output_type": "stream",
     "text": [
      "C:\\Users\\narendra\\Anaconda3\\lib\\site-packages\\numpy\\core\\fromnumeric.py:2389: FutureWarning: Method .ptp is deprecated and will be removed in a future version. Use numpy.ptp instead.\n",
      "  return ptp(axis=axis, out=out, **kwargs)\n"
     ]
    }
   ],
   "source": [
    "y=df['Life_Expectancy']\n",
    "x=df.drop('Life_Expectancy',axis=1)\n",
    "\n",
    "import statsmodels.api as sm\n",
    "Xc=sm.add_constant(x)\n",
    "model = sm.OLS(y,Xc).fit()\n",
    "\n",
    "y_pred = model.predict(Xc)\n",
    "residuals = model.resid"
   ]
  },
  {
   "cell_type": "code",
   "execution_count": 21,
   "metadata": {},
   "outputs": [
    {
     "data": {
      "image/png": "[encoded data removed]",
      "text/plain": [
       "<Figure size 432x288 with 1 Axes>"
      ]
     },
     "metadata": {
      "needs_background": "light"
     },
     "output_type": "display_data"
    }
   ],
   "source": [
    "sns.regplot(y_pred, residuals, lowess=True, line_kws={'color':'g'})\n",
    "plt.show()"
   ]
  },
  {
   "cell_type": "raw",
   "metadata": {},
   "source": [
    "To check for variance of the residuals, we have to use goldfeld test\n",
    "\n",
    "# H0: variance is constant accross the range of data.\n",
    "# HA: variance is not constant accross the range of data."
   ]
  },
  {
   "cell_type": "code",
   "execution_count": 22,
   "metadata": {},
   "outputs": [
    {
     "data": {
      "text/plain": [
       "(1.317453572542622, 0.12061394477654172, 'increasing')"
      ]
     },
     "execution_count": 22,
     "metadata": {},
     "output_type": "execute_result"
    }
   ],
   "source": [
    "from statsmodels.stats.api import het_goldfeldquandt\n",
    "\n",
    "het_goldfeldquandt(y=residuals,x=Xc)"
   ]
  },
  {
   "cell_type": "raw",
   "metadata": {},
   "source": [
    "As pvalue>0.05, we accept null hypothesis(H0). Hence the variance of residuals is constant."
   ]
  },
  {
   "cell_type": "markdown",
   "metadata": {
    "collapsed": true
   },
   "source": [
    "<table align=\"left\">\n",
    "    <tr>\n",
    "        <td width=\"6%\">\n",
    "            <img src=\"question_icon.png\">\n",
    "        </td>\n",
    "        <td>\n",
    "            <div align=\"left\", style=\"font-size:120%\">\n",
    "                <font color=\"#21618C\">\n",
    "                    <b>6. Build a model to study the impact of immunization on life expectancy, using least squares regression. Find the unexplained variation for the model\n",
    "</b>\n",
    "                </font>\n",
    "            </div>\n",
    "        </td>\n",
    "    </tr>\n",
    "</table>"
   ]
  },
  {
   "cell_type": "code",
   "execution_count": 23,
   "metadata": {},
   "outputs": [
    {
     "name": "stdout",
     "output_type": "stream",
     "text": [
      "Unexplained variation for the model is: 8153.255126851351\n"
     ]
    }
   ],
   "source": [
    "# OLS approach is the least squares regression method.\n",
    "\n",
    "y=df['Life_Expectancy']\n",
    "x=df[['Hepatitis B','Polio','Diphtheria ']]\n",
    "\n",
    "Xc=sm.add_constant(x)\n",
    "results = sm.OLS(y,Xc).fit()\n",
    "\n",
    "y_pred = results.predict(Xc)\n",
    "\n",
    "# Unexplaineed variation means sum of squares of error(SSE)\n",
    "SSE = np.sum((y-y_pred)**2)\n",
    "print(\"Unexplained variation for the model is:\",SSE)"
   ]
  },
  {
   "cell_type": "markdown",
   "metadata": {
    "collapsed": true
   },
   "source": [
    "<table align=\"left\">\n",
    "    <tr>\n",
    "        <td width=\"6%\">\n",
    "            <img src=\"question_icon.png\">\n",
    "        </td>\n",
    "        <td>\n",
    "            <div align=\"left\", style=\"font-size:120%\">\n",
    "                <font color=\"#21618C\">\n",
    "                    <b>7. Build a model to study the impact of malnutrition on life expectancy, using least squares regression. Interpret the coeffients</b>\n",
    "                </font>\n",
    "            </div>\n",
    "        </td>\n",
    "    </tr>\n",
    "</table>"
   ]
  },
  {
   "cell_type": "code",
   "execution_count": 24,
   "metadata": {},
   "outputs": [
    {
     "data": {
      "text/html": [
       "<table class=\"simpletable\">\n",
       "<caption>OLS Regression Results</caption>\n",
       "<tr>\n",
       "  <th>Dep. Variable:</th>     <td>Life_Expectancy</td> <th>  R-squared:         </th> <td>   0.197</td>\n",
       "</tr>\n",
       "<tr>\n",
       "  <th>Model:</th>                   <td>OLS</td>       <th>  Adj. R-squared:    </th> <td>   0.188</td>\n",
       "</tr>\n",
       "<tr>\n",
       "  <th>Method:</th>             <td>Least Squares</td>  <th>  F-statistic:       </th> <td>   21.89</td>\n",
       "</tr>\n",
       "<tr>\n",
       "  <th>Date:</th>             <td>Tue, 12 Jan 2021</td> <th>  Prob (F-statistic):</th> <td>3.13e-09</td>\n",
       "</tr>\n",
       "<tr>\n",
       "  <th>Time:</th>                 <td>09:40:32</td>     <th>  Log-Likelihood:    </th> <td> -617.42</td>\n",
       "</tr>\n",
       "<tr>\n",
       "  <th>No. Observations:</th>      <td>   182</td>      <th>  AIC:               </th> <td>   1241.</td>\n",
       "</tr>\n",
       "<tr>\n",
       "  <th>Df Residuals:</th>          <td>   179</td>      <th>  BIC:               </th> <td>   1250.</td>\n",
       "</tr>\n",
       "<tr>\n",
       "  <th>Df Model:</th>              <td>     2</td>      <th>                     </th>     <td> </td>   \n",
       "</tr>\n",
       "<tr>\n",
       "  <th>Covariance Type:</th>      <td>nonrobust</td>    <th>                     </th>     <td> </td>   \n",
       "</tr>\n",
       "</table>\n",
       "<table class=\"simpletable\">\n",
       "<tr>\n",
       "          <td></td>             <th>coef</th>     <th>std err</th>      <th>t</th>      <th>P>|t|</th>  <th>[0.025</th>    <th>0.975]</th>  \n",
       "</tr>\n",
       "<tr>\n",
       "  <th>const</th>             <td>   75.5685</td> <td>    0.782</td> <td>   96.685</td> <td> 0.000</td> <td>   74.026</td> <td>   77.111</td>\n",
       "</tr>\n",
       "<tr>\n",
       "  <th>Malnourished10_19</th> <td>   -0.3073</td> <td>    0.572</td> <td>   -0.537</td> <td> 0.592</td> <td>   -1.437</td> <td>    0.822</td>\n",
       "</tr>\n",
       "<tr>\n",
       "  <th>Malnourished5_9</th>   <td>   -0.5397</td> <td>    0.561</td> <td>   -0.961</td> <td> 0.338</td> <td>   -1.647</td> <td>    0.568</td>\n",
       "</tr>\n",
       "</table>\n",
       "<table class=\"simpletable\">\n",
       "<tr>\n",
       "  <th>Omnibus:</th>       <td> 8.608</td> <th>  Durbin-Watson:     </th> <td>   1.804</td>\n",
       "</tr>\n",
       "<tr>\n",
       "  <th>Prob(Omnibus):</th> <td> 0.014</td> <th>  Jarque-Bera (JB):  </th> <td>   9.106</td>\n",
       "</tr>\n",
       "<tr>\n",
       "  <th>Skew:</th>          <td>-0.540</td> <th>  Prob(JB):          </th> <td>  0.0105</td>\n",
       "</tr>\n",
       "<tr>\n",
       "  <th>Kurtosis:</th>      <td> 2.814</td> <th>  Cond. No.          </th> <td>    12.9</td>\n",
       "</tr>\n",
       "</table><br/><br/>Warnings:<br/>[1] Standard Errors assume that the covariance matrix of the errors is correctly specified."
      ],
      "text/plain": [
       "<class 'statsmodels.iolib.summary.Summary'>\n",
       "\"\"\"\n",
       "                            OLS Regression Results                            \n",
       "==============================================================================\n",
       "Dep. Variable:        Life_Expectancy   R-squared:                       0.197\n",
       "Model:                            OLS   Adj. R-squared:                  0.188\n",
       "Method:                 Least Squares   F-statistic:                     21.89\n",
       "Date:                Tue, 12 Jan 2021   Prob (F-statistic):           3.13e-09\n",
       "Time:                        09:40:32   Log-Likelihood:                -617.42\n",
       "No. Observations:                 182   AIC:                             1241.\n",
       "Df Residuals:                     179   BIC:                             1250.\n",
       "Df Model:                           2                                         \n",
       "Covariance Type:            nonrobust                                         \n",
       "=====================================================================================\n",
       "                        coef    std err          t      P>|t|      [0.025      0.975]\n",
       "-------------------------------------------------------------------------------------\n",
       "const                75.5685      0.782     96.685      0.000      74.026      77.111\n",
       "Malnourished10_19    -0.3073      0.572     -0.537      0.592      -1.437       0.822\n",
       "Malnourished5_9      -0.5397      0.561     -0.961      0.338      -1.647       0.568\n",
       "==============================================================================\n",
       "Omnibus:                        8.608   Durbin-Watson:                   1.804\n",
       "Prob(Omnibus):                  0.014   Jarque-Bera (JB):                9.106\n",
       "Skew:                          -0.540   Prob(JB):                       0.0105\n",
       "Kurtosis:                       2.814   Cond. No.                         12.9\n",
       "==============================================================================\n",
       "\n",
       "Warnings:\n",
       "[1] Standard Errors assume that the covariance matrix of the errors is correctly specified.\n",
       "\"\"\""
      ]
     },
     "execution_count": 24,
     "metadata": {},
     "output_type": "execute_result"
    }
   ],
   "source": [
    "# OLS approach is the least squares regression method.\n",
    "\n",
    "y=df['Life_Expectancy']\n",
    "x=df[['Malnourished10_19', 'Malnourished5_9']]\n",
    "\n",
    "Xc=sm.add_constant(x)\n",
    "results = sm.OLS(y,Xc).fit()\n",
    "\n",
    "results.summary()"
   ]
  },
  {
   "cell_type": "raw",
   "metadata": {},
   "source": [
    "# coefficient for Malnourished10_19 = -0.3073. Hence with every 1% of increase in Malnourished10_19, life_expectancy would be decreased by 0.3073 years.\n",
    "# coefficient for Malnourished5_9 = -0.5397. Hence with every 1% of increase in Malnourished5_9, life_expectancy would be decreased by 0.5397 years.        "
   ]
  },
  {
   "cell_type": "markdown",
   "metadata": {},
   "source": [
    "<a id=\"gd\"> </a>\n",
    "## 3. Gradient Descent"
   ]
  },
  {
   "cell_type": "markdown",
   "metadata": {
    "collapsed": true
   },
   "source": [
    "<table align=\"left\">\n",
    "    <tr>\n",
    "        <td width=\"6%\">\n",
    "            <img src=\"question_icon.png\">\n",
    "        </td>\n",
    "        <td>\n",
    "            <div align=\"left\", style=\"font-size:120%\">\n",
    "                <font color=\"#21618C\">\n",
    "                    <b>8. Build a model to study the influence of adult mortality rate on life expectancy using both the least squares regression and gradient descent approach. Are the fits for both the models different?</b>\n",
    "                </font>\n",
    "            </div>\n",
    "        </td>\n",
    "    </tr>\n",
    "</table>"
   ]
  },
  {
   "cell_type": "code",
   "execution_count": 25,
   "metadata": {},
   "outputs": [
    {
     "name": "stderr",
     "output_type": "stream",
     "text": [
      "C:\\Users\\narendra\\Anaconda3\\lib\\site-packages\\numpy\\core\\fromnumeric.py:2389: FutureWarning: Method .ptp is deprecated and will be removed in a future version. Use numpy.ptp instead.\n",
      "  return ptp(axis=axis, out=out, **kwargs)\n"
     ]
    }
   ],
   "source": [
    "# OLS(Least squares ression) Approch\n",
    "\n",
    "from sklearn.model_selection import train_test_split\n",
    "from sklearn.metrics import r2_score, mean_squared_error\n",
    "import statsmodels.api as sm\n",
    "\n",
    "y=df['Life_Expectancy']\n",
    "x=df[['Adult_Mortality']]\n",
    "\n",
    "Xc=sm.add_constant(x)\n",
    "\n",
    "xtrain,xtest,ytrain,ytest = train_test_split(Xc,y,train_size=0.7,random_state=4)\n",
    "\n",
    "model = sm.OLS(ytrain,xtrain).fit()\n",
    "\n",
    "ypredtest_ols = model.predict(xtest)\n",
    "ypredtrain_ols = model.predict(xtrain)\n",
    "\n",
    "r2_ols_test = r2_score(ytest,ypredtest_ols)\n",
    "r2_ols_train  = r2_score(ytrain,ypredtrain_ols)\n",
    "\n",
    "rmse_ols_test = np.sqrt(mean_squared_error(ytest,ypredtest_ols))\n",
    "rmse_ols_train = np.sqrt(mean_squared_error(ytrain,ypredtrain_ols))\n"
   ]
  },
  {
   "cell_type": "code",
   "execution_count": 26,
   "metadata": {},
   "outputs": [
    {
     "name": "stderr",
     "output_type": "stream",
     "text": [
      "C:\\Users\\narendra\\Anaconda3\\lib\\site-packages\\numpy\\core\\fromnumeric.py:2389: FutureWarning: Method .ptp is deprecated and will be removed in a future version. Use numpy.ptp instead.\n",
      "  return ptp(axis=axis, out=out, **kwargs)\n"
     ]
    }
   ],
   "source": [
    "# Gradient Descent Approach\n",
    "\n",
    "from sklearn.linear_model import LinearRegression\n",
    "\n",
    "y=df['Life_Expectancy']\n",
    "x=df[['Adult_Mortality']]\n",
    "\n",
    "Xc=sm.add_constant(x)\n",
    "\n",
    "xtrain,xtest,ytrain,ytest = train_test_split(Xc,y,train_size=0.7,random_state=4)\n",
    "\n",
    "lr= LinearRegression()\n",
    "\n",
    "lr.fit(xtrain,ytrain)\n",
    "\n",
    "ypredtest_lr = lr.predict(xtest)\n",
    "ypredtrain_lr = lr.predict(xtrain)\n",
    "\n",
    "r2_lr_test = r2_score(ytest,ypredtest_ols)\n",
    "r2_lr_train  = r2_score(ytrain,ypredtrain_ols)\n",
    "\n",
    "rmse_lr_test = np.sqrt(mean_squared_error(ytest,ypredtest_lr))\n",
    "rmse_lr_train = np.sqrt(mean_squared_error(ytrain,ypredtrain_lr))\n"
   ]
  },
  {
   "cell_type": "code",
   "execution_count": 27,
   "metadata": {},
   "outputs": [
    {
     "name": "stdout",
     "output_type": "stream",
     "text": [
      "OLS: \n",
      "R2 for train data :  0.6105901482595533\n",
      "R2 for test data  :  0.6205415252091142\n",
      "\n",
      "\n",
      "Linear Regression (Gradient Descent): \n",
      "R2 for train data :  0.6105901482595533\n",
      "R2 for test data  :  0.6205415252091142\n",
      "\n",
      "\n",
      "OLS :\n",
      "RmSE for train data :  5.074551511982911\n",
      "RMSE for test data  :  4.7827636492912005\n",
      "\n",
      "\n",
      "Linear Regression (Gradient Descent) :\n",
      "RMSE for train data :  5.074551511982911\n",
      "RMSE for test data  :  4.782763649291203\n"
     ]
    }
   ],
   "source": [
    "print('OLS: ')\n",
    "print('R2 for train data : ',r2_ols_train)\n",
    "print('R2 for test data  : ',r2_ols_test)\n",
    "print('\\n')\n",
    "print('Linear Regression (Gradient Descent): ')\n",
    "print('R2 for train data : ',r2_lr_train)\n",
    "print('R2 for test data  : ',r2_lr_test)\n",
    "print('\\n')\n",
    "print('OLS :')\n",
    "print('RmSE for train data : ',rmse_ols_train)\n",
    "print('RMSE for test data  : ',rmse_ols_test)\n",
    "print('\\n')\n",
    "print('Linear Regression (Gradient Descent) :')\n",
    "print('RMSE for train data : ',rmse_lr_train)\n",
    "print('RMSE for test data  : ',rmse_lr_test)"
   ]
  },
  {
   "cell_type": "raw",
   "metadata": {},
   "source": [
    "From above values, we can observe that, RMSE and R-square for both OLS and Gradient descent approach is same.\n",
    "Hence the fit for both the models is same."
   ]
  },
  {
   "cell_type": "markdown",
   "metadata": {
    "collapsed": true
   },
   "source": [
    "<table align=\"left\">\n",
    "    <tr>\n",
    "        <td width=\"6%\">\n",
    "            <img src=\"question_icon.png\">\n",
    "        </td>\n",
    "        <td>\n",
    "            <div align=\"left\", style=\"font-size:120%\">\n",
    "                <font color=\"#21618C\">\n",
    "                    <b>9. Build a model to analyze the influence of immunization on life expectancy. Use SGD and plot a horizontal multiple barchart to compare the values of beta coefficients with values obtained by the full model build least squares regression.</b>\n",
    "                </font>\n",
    "            </div>\n",
    "        </td>\n",
    "    </tr>\n",
    "</table>"
   ]
  },
  {
   "cell_type": "code",
   "execution_count": 28,
   "metadata": {},
   "outputs": [
    {
     "name": "stderr",
     "output_type": "stream",
     "text": [
      "C:\\Users\\narendra\\Anaconda3\\lib\\site-packages\\numpy\\core\\fromnumeric.py:2389: FutureWarning: Method .ptp is deprecated and will be removed in a future version. Use numpy.ptp instead.\n",
      "  return ptp(axis=axis, out=out, **kwargs)\n"
     ]
    },
    {
     "data": {
      "text/html": [
       "<table class=\"simpletable\">\n",
       "<caption>OLS Regression Results</caption>\n",
       "<tr>\n",
       "  <th>Dep. Variable:</th>     <td>Life_Expectancy</td> <th>  R-squared:         </th> <td>   0.305</td>\n",
       "</tr>\n",
       "<tr>\n",
       "  <th>Model:</th>                   <td>OLS</td>       <th>  Adj. R-squared:    </th> <td>   0.293</td>\n",
       "</tr>\n",
       "<tr>\n",
       "  <th>Method:</th>             <td>Least Squares</td>  <th>  F-statistic:       </th> <td>   26.01</td>\n",
       "</tr>\n",
       "<tr>\n",
       "  <th>Date:</th>             <td>Tue, 12 Jan 2021</td> <th>  Prob (F-statistic):</th> <td>5.31e-14</td>\n",
       "</tr>\n",
       "<tr>\n",
       "  <th>Time:</th>                 <td>09:40:40</td>     <th>  Log-Likelihood:    </th> <td> -604.24</td>\n",
       "</tr>\n",
       "<tr>\n",
       "  <th>No. Observations:</th>      <td>   182</td>      <th>  AIC:               </th> <td>   1216.</td>\n",
       "</tr>\n",
       "<tr>\n",
       "  <th>Df Residuals:</th>          <td>   178</td>      <th>  BIC:               </th> <td>   1229.</td>\n",
       "</tr>\n",
       "<tr>\n",
       "  <th>Df Model:</th>              <td>     3</td>      <th>                     </th>     <td> </td>   \n",
       "</tr>\n",
       "<tr>\n",
       "  <th>Covariance Type:</th>      <td>nonrobust</td>    <th>                     </th>     <td> </td>   \n",
       "</tr>\n",
       "</table>\n",
       "<table class=\"simpletable\">\n",
       "<tr>\n",
       "       <td></td>          <th>coef</th>     <th>std err</th>      <th>t</th>      <th>P>|t|</th>  <th>[0.025</th>    <th>0.975]</th>  \n",
       "</tr>\n",
       "<tr>\n",
       "  <th>const</th>       <td>   55.3213</td> <td>    1.996</td> <td>   27.710</td> <td> 0.000</td> <td>   51.382</td> <td>   59.261</td>\n",
       "</tr>\n",
       "<tr>\n",
       "  <th>Hepatitis B</th> <td>   -0.0822</td> <td>    0.046</td> <td>   -1.796</td> <td> 0.074</td> <td>   -0.173</td> <td>    0.008</td>\n",
       "</tr>\n",
       "<tr>\n",
       "  <th>Polio</th>       <td>    0.1027</td> <td>    0.028</td> <td>    3.734</td> <td> 0.000</td> <td>    0.048</td> <td>    0.157</td>\n",
       "</tr>\n",
       "<tr>\n",
       "  <th>Diphtheria </th> <td>    0.1748</td> <td>    0.054</td> <td>    3.230</td> <td> 0.001</td> <td>    0.068</td> <td>    0.282</td>\n",
       "</tr>\n",
       "</table>\n",
       "<table class=\"simpletable\">\n",
       "<tr>\n",
       "  <th>Omnibus:</th>       <td> 8.403</td> <th>  Durbin-Watson:     </th> <td>   1.965</td>\n",
       "</tr>\n",
       "<tr>\n",
       "  <th>Prob(Omnibus):</th> <td> 0.015</td> <th>  Jarque-Bera (JB):  </th> <td>   8.831</td>\n",
       "</tr>\n",
       "<tr>\n",
       "  <th>Skew:</th>          <td>-0.536</td> <th>  Prob(JB):          </th> <td>  0.0121</td>\n",
       "</tr>\n",
       "<tr>\n",
       "  <th>Kurtosis:</th>      <td> 2.880</td> <th>  Cond. No.          </th> <td>    593.</td>\n",
       "</tr>\n",
       "</table><br/><br/>Warnings:<br/>[1] Standard Errors assume that the covariance matrix of the errors is correctly specified."
      ],
      "text/plain": [
       "<class 'statsmodels.iolib.summary.Summary'>\n",
       "\"\"\"\n",
       "                            OLS Regression Results                            \n",
       "==============================================================================\n",
       "Dep. Variable:        Life_Expectancy   R-squared:                       0.305\n",
       "Model:                            OLS   Adj. R-squared:                  0.293\n",
       "Method:                 Least Squares   F-statistic:                     26.01\n",
       "Date:                Tue, 12 Jan 2021   Prob (F-statistic):           5.31e-14\n",
       "Time:                        09:40:40   Log-Likelihood:                -604.24\n",
       "No. Observations:                 182   AIC:                             1216.\n",
       "Df Residuals:                     178   BIC:                             1229.\n",
       "Df Model:                           3                                         \n",
       "Covariance Type:            nonrobust                                         \n",
       "===============================================================================\n",
       "                  coef    std err          t      P>|t|      [0.025      0.975]\n",
       "-------------------------------------------------------------------------------\n",
       "const          55.3213      1.996     27.710      0.000      51.382      59.261\n",
       "Hepatitis B    -0.0822      0.046     -1.796      0.074      -0.173       0.008\n",
       "Polio           0.1027      0.028      3.734      0.000       0.048       0.157\n",
       "Diphtheria      0.1748      0.054      3.230      0.001       0.068       0.282\n",
       "==============================================================================\n",
       "Omnibus:                        8.403   Durbin-Watson:                   1.965\n",
       "Prob(Omnibus):                  0.015   Jarque-Bera (JB):                8.831\n",
       "Skew:                          -0.536   Prob(JB):                       0.0121\n",
       "Kurtosis:                       2.880   Cond. No.                         593.\n",
       "==============================================================================\n",
       "\n",
       "Warnings:\n",
       "[1] Standard Errors assume that the covariance matrix of the errors is correctly specified.\n",
       "\"\"\""
      ]
     },
     "execution_count": 28,
     "metadata": {},
     "output_type": "execute_result"
    }
   ],
   "source": [
    "# Stochastic Gradient Descent(SGD)\n",
    "\n",
    "\n",
    "\n",
    "\n",
    "\n",
    "# OLS(Least Squares Regression) Approach\n",
    "\n",
    "y=df['Life_Expectancy']\n",
    "x=df[['Hepatitis B','Polio','Diphtheria ']]\n",
    "\n",
    "Xc=sm.add_constant(x)\n",
    "results = sm.OLS(y,Xc).fit()\n",
    "\n",
    "results.summary()"
   ]
  },
  {
   "cell_type": "markdown",
   "metadata": {
    "collapsed": true
   },
   "source": [
    "<table align=\"left\">\n",
    "    <tr>\n",
    "        <td width=\"6%\">\n",
    "            <img src=\"question_icon.png\">\n",
    "        </td>\n",
    "        <td>\n",
    "            <div align=\"left\", style=\"font-size:120%\">\n",
    "                <font color=\"#21618C\">\n",
    "                    <b>10. Build a full model using least squares regression. Check whether the model overfits the training data or not.\n",
    "</b>\n",
    "                </font>\n",
    "            </div>\n",
    "        </td>\n",
    "    </tr>\n",
    "</table>"
   ]
  },
  {
   "cell_type": "code",
   "execution_count": 29,
   "metadata": {},
   "outputs": [
    {
     "name": "stdout",
     "output_type": "stream",
     "text": [
      "R2 for train data :  0.6105901482595533\n",
      "R2 for test data  :  0.6205415252091142\n",
      "\n",
      "\n",
      "RMSE for train data :  5.074551511982911\n",
      "RMSE for test data  :  4.7827636492912005\n"
     ]
    }
   ],
   "source": [
    "# OLS(Least squares ression) Approch\n",
    "\n",
    "from sklearn.model_selection import train_test_split\n",
    "from sklearn.metrics import r2_score, mean_squared_error\n",
    "import statsmodels.api as sm\n",
    "\n",
    "y=df['Life_Expectancy']\n",
    "x=df[['Adult_Mortality']]\n",
    "\n",
    "Xc=sm.add_constant(x)\n",
    "\n",
    "xtrain,xtest,ytrain,ytest = train_test_split(Xc,y,train_size=0.7,random_state=4)\n",
    "\n",
    "model = sm.OLS(ytrain,xtrain).fit()\n",
    "\n",
    "ypredtest_ols = model.predict(xtest)\n",
    "ypredtrain_ols = model.predict(xtrain)\n",
    "\n",
    "r2_ols_test = r2_score(ytest,ypredtest_ols)\n",
    "r2_ols_train  = r2_score(ytrain,ypredtrain_ols)\n",
    "\n",
    "rmse_ols_test = np.sqrt(mean_squared_error(ytest,ypredtest_ols))\n",
    "rmse_ols_train = np.sqrt(mean_squared_error(ytrain,ypredtrain_ols))\n",
    "\n",
    "print('R2 for train data : ',r2_ols_train)\n",
    "print('R2 for test data  : ',r2_ols_test)\n",
    "print('\\n')\n",
    "print('RMSE for train data : ',rmse_ols_train)\n",
    "print('RMSE for test data  : ',rmse_ols_test)"
   ]
  },
  {
   "cell_type": "raw",
   "metadata": {},
   "source": [
    "From the above rmse and r-square values, we can observe that there is no much difference in train and test set performance. \n",
    "So, there is no overfitting."
   ]
  },
  {
   "cell_type": "markdown",
   "metadata": {
    "collapsed": true
   },
   "source": [
    "<table align=\"left\">\n",
    "    <tr>\n",
    "        <td width=\"6%\">\n",
    "            <img src=\"question_icon.png\">\n",
    "        </td>\n",
    "        <td>\n",
    "            <div align=\"left\", style=\"font-size:120%\">\n",
    "                <font color=\"#21618C\">\n",
    "                    <b>11. Can we use a linear regression model to analyze how all features from the dataset impact life expectancy?</b>\n",
    "                </font>\n",
    "            </div>\n",
    "        </td>\n",
    "    </tr>\n",
    "</table>"
   ]
  },
  {
   "cell_type": "code",
   "execution_count": 30,
   "metadata": {},
   "outputs": [
    {
     "name": "stderr",
     "output_type": "stream",
     "text": [
      "C:\\Users\\narendra\\Anaconda3\\lib\\site-packages\\numpy\\core\\fromnumeric.py:2389: FutureWarning: Method .ptp is deprecated and will be removed in a future version. Use numpy.ptp instead.\n",
      "  return ptp(axis=axis, out=out, **kwargs)\n"
     ]
    },
    {
     "data": {
      "text/html": [
       "<table class=\"simpletable\">\n",
       "<caption>OLS Regression Results</caption>\n",
       "<tr>\n",
       "  <th>Dep. Variable:</th>     <td>Life_Expectancy</td> <th>  R-squared:         </th> <td>   0.887</td>\n",
       "</tr>\n",
       "<tr>\n",
       "  <th>Model:</th>                   <td>OLS</td>       <th>  Adj. R-squared:    </th> <td>   0.875</td>\n",
       "</tr>\n",
       "<tr>\n",
       "  <th>Method:</th>             <td>Least Squares</td>  <th>  F-statistic:       </th> <td>   75.41</td>\n",
       "</tr>\n",
       "<tr>\n",
       "  <th>Date:</th>             <td>Tue, 12 Jan 2021</td> <th>  Prob (F-statistic):</th> <td>2.92e-68</td>\n",
       "</tr>\n",
       "<tr>\n",
       "  <th>Time:</th>                 <td>09:40:41</td>     <th>  Log-Likelihood:    </th> <td> -439.24</td>\n",
       "</tr>\n",
       "<tr>\n",
       "  <th>No. Observations:</th>      <td>   182</td>      <th>  AIC:               </th> <td>   914.5</td>\n",
       "</tr>\n",
       "<tr>\n",
       "  <th>Df Residuals:</th>          <td>   164</td>      <th>  BIC:               </th> <td>   972.2</td>\n",
       "</tr>\n",
       "<tr>\n",
       "  <th>Df Model:</th>              <td>    17</td>      <th>                     </th>     <td> </td>   \n",
       "</tr>\n",
       "<tr>\n",
       "  <th>Covariance Type:</th>      <td>nonrobust</td>    <th>                     </th>     <td> </td>   \n",
       "</tr>\n",
       "</table>\n",
       "<table class=\"simpletable\">\n",
       "<tr>\n",
       "          <td></td>             <th>coef</th>     <th>std err</th>      <th>t</th>      <th>P>|t|</th>  <th>[0.025</th>    <th>0.975]</th>  \n",
       "</tr>\n",
       "<tr>\n",
       "  <th>const</th>             <td>-3114.9343</td> <td> 1093.236</td> <td>   -2.849</td> <td> 0.005</td> <td>-5273.566</td> <td> -956.302</td>\n",
       "</tr>\n",
       "<tr>\n",
       "  <th>Year</th>              <td>    1.5722</td> <td>    0.543</td> <td>    2.898</td> <td> 0.004</td> <td>    0.501</td> <td>    2.643</td>\n",
       "</tr>\n",
       "<tr>\n",
       "  <th>Adult_Mortality</th>   <td>   -0.0238</td> <td>    0.003</td> <td>   -6.889</td> <td> 0.000</td> <td>   -0.031</td> <td>   -0.017</td>\n",
       "</tr>\n",
       "<tr>\n",
       "  <th>Infant_Deaths</th>     <td>    0.0718</td> <td>    0.032</td> <td>    2.226</td> <td> 0.027</td> <td>    0.008</td> <td>    0.135</td>\n",
       "</tr>\n",
       "<tr>\n",
       "  <th>Hepatitis B</th>       <td>    0.0250</td> <td>    0.021</td> <td>    1.187</td> <td> 0.237</td> <td>   -0.017</td> <td>    0.067</td>\n",
       "</tr>\n",
       "<tr>\n",
       "  <th>Measles </th>          <td>-5.521e-05</td> <td> 5.55e-05</td> <td>   -0.995</td> <td> 0.321</td> <td>   -0.000</td> <td> 5.43e-05</td>\n",
       "</tr>\n",
       "<tr>\n",
       "  <th>BMI</th>               <td>   -0.0147</td> <td>    0.013</td> <td>   -1.107</td> <td> 0.270</td> <td>   -0.041</td> <td>    0.012</td>\n",
       "</tr>\n",
       "<tr>\n",
       "  <th>Underfive_Deaths </th> <td>   -0.0520</td> <td>    0.023</td> <td>   -2.249</td> <td> 0.026</td> <td>   -0.098</td> <td>   -0.006</td>\n",
       "</tr>\n",
       "<tr>\n",
       "  <th>Polio</th>             <td>    0.0072</td> <td>    0.012</td> <td>    0.582</td> <td> 0.561</td> <td>   -0.017</td> <td>    0.032</td>\n",
       "</tr>\n",
       "<tr>\n",
       "  <th>Diphtheria </th>       <td>    0.0072</td> <td>    0.025</td> <td>    0.292</td> <td> 0.771</td> <td>   -0.041</td> <td>    0.056</td>\n",
       "</tr>\n",
       "<tr>\n",
       "  <th>HIV</th>               <td>   -0.4499</td> <td>    0.220</td> <td>   -2.044</td> <td> 0.043</td> <td>   -0.885</td> <td>   -0.015</td>\n",
       "</tr>\n",
       "<tr>\n",
       "  <th>GDP</th>               <td>-2.125e-05</td> <td> 1.85e-05</td> <td>   -1.147</td> <td> 0.253</td> <td>-5.78e-05</td> <td> 1.53e-05</td>\n",
       "</tr>\n",
       "<tr>\n",
       "  <th>Population</th>        <td>-4.378e-09</td> <td> 6.82e-09</td> <td>   -0.642</td> <td> 0.522</td> <td>-1.78e-08</td> <td> 9.08e-09</td>\n",
       "</tr>\n",
       "<tr>\n",
       "  <th>Malnourished10_19</th> <td>   -0.0907</td> <td>    0.239</td> <td>   -0.380</td> <td> 0.705</td> <td>   -0.562</td> <td>    0.381</td>\n",
       "</tr>\n",
       "<tr>\n",
       "  <th>Malnourished5_9</th>   <td>   -0.0565</td> <td>    0.236</td> <td>   -0.239</td> <td> 0.811</td> <td>   -0.523</td> <td>    0.410</td>\n",
       "</tr>\n",
       "<tr>\n",
       "  <th>Income_Index</th>      <td>   34.4265</td> <td>    3.514</td> <td>    9.796</td> <td> 0.000</td> <td>   27.487</td> <td>   41.366</td>\n",
       "</tr>\n",
       "<tr>\n",
       "  <th>Schooling</th>         <td>   -0.1795</td> <td>    0.132</td> <td>   -1.361</td> <td> 0.175</td> <td>   -0.440</td> <td>    0.081</td>\n",
       "</tr>\n",
       "<tr>\n",
       "  <th>Status_Developing</th> <td>   -0.7507</td> <td>    0.689</td> <td>   -1.089</td> <td> 0.278</td> <td>   -2.112</td> <td>    0.610</td>\n",
       "</tr>\n",
       "</table>\n",
       "<table class=\"simpletable\">\n",
       "<tr>\n",
       "  <th>Omnibus:</th>       <td> 2.597</td> <th>  Durbin-Watson:     </th> <td>   2.081</td>\n",
       "</tr>\n",
       "<tr>\n",
       "  <th>Prob(Omnibus):</th> <td> 0.273</td> <th>  Jarque-Bera (JB):  </th> <td>   2.500</td>\n",
       "</tr>\n",
       "<tr>\n",
       "  <th>Skew:</th>          <td>-0.092</td> <th>  Prob(JB):          </th> <td>   0.287</td>\n",
       "</tr>\n",
       "<tr>\n",
       "  <th>Kurtosis:</th>      <td> 3.544</td> <th>  Cond. No.          </th> <td>1.87e+11</td>\n",
       "</tr>\n",
       "</table><br/><br/>Warnings:<br/>[1] Standard Errors assume that the covariance matrix of the errors is correctly specified.<br/>[2] The condition number is large, 1.87e+11. This might indicate that there are<br/>strong multicollinearity or other numerical problems."
      ],
      "text/plain": [
       "<class 'statsmodels.iolib.summary.Summary'>\n",
       "\"\"\"\n",
       "                            OLS Regression Results                            \n",
       "==============================================================================\n",
       "Dep. Variable:        Life_Expectancy   R-squared:                       0.887\n",
       "Model:                            OLS   Adj. R-squared:                  0.875\n",
       "Method:                 Least Squares   F-statistic:                     75.41\n",
       "Date:                Tue, 12 Jan 2021   Prob (F-statistic):           2.92e-68\n",
       "Time:                        09:40:41   Log-Likelihood:                -439.24\n",
       "No. Observations:                 182   AIC:                             914.5\n",
       "Df Residuals:                     164   BIC:                             972.2\n",
       "Df Model:                          17                                         \n",
       "Covariance Type:            nonrobust                                         \n",
       "=====================================================================================\n",
       "                        coef    std err          t      P>|t|      [0.025      0.975]\n",
       "-------------------------------------------------------------------------------------\n",
       "const             -3114.9343   1093.236     -2.849      0.005   -5273.566    -956.302\n",
       "Year                  1.5722      0.543      2.898      0.004       0.501       2.643\n",
       "Adult_Mortality      -0.0238      0.003     -6.889      0.000      -0.031      -0.017\n",
       "Infant_Deaths         0.0718      0.032      2.226      0.027       0.008       0.135\n",
       "Hepatitis B           0.0250      0.021      1.187      0.237      -0.017       0.067\n",
       "Measles           -5.521e-05   5.55e-05     -0.995      0.321      -0.000    5.43e-05\n",
       "BMI                  -0.0147      0.013     -1.107      0.270      -0.041       0.012\n",
       "Underfive_Deaths     -0.0520      0.023     -2.249      0.026      -0.098      -0.006\n",
       "Polio                 0.0072      0.012      0.582      0.561      -0.017       0.032\n",
       "Diphtheria            0.0072      0.025      0.292      0.771      -0.041       0.056\n",
       "HIV                  -0.4499      0.220     -2.044      0.043      -0.885      -0.015\n",
       "GDP               -2.125e-05   1.85e-05     -1.147      0.253   -5.78e-05    1.53e-05\n",
       "Population        -4.378e-09   6.82e-09     -0.642      0.522   -1.78e-08    9.08e-09\n",
       "Malnourished10_19    -0.0907      0.239     -0.380      0.705      -0.562       0.381\n",
       "Malnourished5_9      -0.0565      0.236     -0.239      0.811      -0.523       0.410\n",
       "Income_Index         34.4265      3.514      9.796      0.000      27.487      41.366\n",
       "Schooling            -0.1795      0.132     -1.361      0.175      -0.440       0.081\n",
       "Status_Developing    -0.7507      0.689     -1.089      0.278      -2.112       0.610\n",
       "==============================================================================\n",
       "Omnibus:                        2.597   Durbin-Watson:                   2.081\n",
       "Prob(Omnibus):                  0.273   Jarque-Bera (JB):                2.500\n",
       "Skew:                          -0.092   Prob(JB):                        0.287\n",
       "Kurtosis:                       3.544   Cond. No.                     1.87e+11\n",
       "==============================================================================\n",
       "\n",
       "Warnings:\n",
       "[1] Standard Errors assume that the covariance matrix of the errors is correctly specified.\n",
       "[2] The condition number is large, 1.87e+11. This might indicate that there are\n",
       "strong multicollinearity or other numerical problems.\n",
       "\"\"\""
      ]
     },
     "execution_count": 30,
     "metadata": {},
     "output_type": "execute_result"
    }
   ],
   "source": [
    "y=df['Life_Expectancy']\n",
    "x=df.drop(columns='Life_Expectancy')\n",
    "\n",
    "Xc= sm.add_constant(x)\n",
    "\n",
    "model = sm.OLS(y,Xc).fit()\n",
    "model.summary()"
   ]
  },
  {
   "cell_type": "raw",
   "metadata": {},
   "source": [
    "# we have the coeffiecients of all the independent variables in the above model.\n",
    "\n",
    "(i). Negative sign signifies negative correlation with the dependent variable, ie; with the increase in these variables the life expectancy reduces. \n",
    "            for example: with unit increase in adult mortality rate, the life expectancy reduces by 0.02326 years.\n",
    "\n",
    "(ii). Positive sign signifies positive correlation with the dependent variable, ie; with the increas in these variables the life expectancy increases. \n",
    "            for example: for every unit increase in Income_index, the life expectancy increases by 30.3 years.\n",
    "\n",
    "(iii). But there are several features(independent variables) which are insignificant as their pvalue > 0.05. So, those variables will have no effect on the Life_expectancy."
   ]
  },
  {
   "cell_type": "markdown",
   "metadata": {},
   "source": [
    "<a id=\"reg\"> </a>\n",
    "## 4. Regularization"
   ]
  },
  {
   "cell_type": "markdown",
   "metadata": {
    "collapsed": true
   },
   "source": [
    "<table align=\"left\">\n",
    "    <tr>\n",
    "        <td width=\"6%\">\n",
    "            <img src=\"question_icon.png\">\n",
    "        </td>\n",
    "        <td>\n",
    "            <div align=\"left\", style=\"font-size:120%\">\n",
    "                <font color=\"#21618C\">\n",
    "                    <b>12. Can we perform regression analysis without eliminating features involved in multicollinearity detected in question 11?</b>\n",
    "                </font>\n",
    "            </div>\n",
    "        </td>\n",
    "    </tr>\n",
    "</table>"
   ]
  },
  {
   "cell_type": "code",
   "execution_count": 31,
   "metadata": {},
   "outputs": [],
   "source": [
    "# We go for Ridge regression as we have to keep all the features in the model.\n",
    "\n",
    "from sklearn.model_selection import train_test_split\n",
    "from sklearn.preprocessing import StandardScaler\n",
    "\n",
    "y = df['Life_Expectancy']\n",
    "x = df.drop(columns='Life_Expectancy')\n",
    "\n",
    "x_train,x_test,y_train,y_test = train_test_split(x,y,train_size=0.7,random_state=4)\n",
    "\n",
    "ss=StandardScaler()\n",
    "xs = ss.fit_transform(x)\n",
    "x_trains = ss.fit_transform(x_train)\n",
    "x_tests = ss.transform(x_test)\n",
    "\n",
    "x_trains = pd.DataFrame(x_trains,columns=x.columns)\n",
    "x_tests = pd.DataFrame(x_tests,columns=x.columns)\n"
   ]
  },
  {
   "cell_type": "code",
   "execution_count": 32,
   "metadata": {},
   "outputs": [
    {
     "name": "stderr",
     "output_type": "stream",
     "text": [
      "C:\\Users\\narendra\\Anaconda3\\lib\\site-packages\\sklearn\\model_selection\\_search.py:814: DeprecationWarning: The default of the `iid` parameter will change from True to False in version 0.22 and will be removed in 0.24. This will change numeric results when test-set sizes are unequal.\n",
      "  DeprecationWarning)\n"
     ]
    },
    {
     "data": {
      "text/plain": [
       "0.22320164692952324"
      ]
     },
     "execution_count": 32,
     "metadata": {},
     "output_type": "execute_result"
    }
   ],
   "source": [
    "# Let's find the best alpha by tuning the alphas.\n",
    "\n",
    "from sklearn.linear_model import Ridge, RidgeCV\n",
    "\n",
    "alphas = np.logspace(-3,1,500)\n",
    "ridge_cv = RidgeCV(alphas=alphas,cv=5)\n",
    "ridge_cv.fit(xs,y)\n",
    "\n",
    "ridge_cv.alpha_"
   ]
  },
  {
   "cell_type": "code",
   "execution_count": 33,
   "metadata": {
    "scrolled": true
   },
   "outputs": [
    {
     "name": "stdout",
     "output_type": "stream",
     "text": [
      "R-square of train set: 0.8887612885336442\n",
      "R-square of test set: 0.872128531729996\n"
     ]
    }
   ],
   "source": [
    "# Let's build the Ridge Regression using the best variable we got,\n",
    "\n",
    "rd = Ridge(alpha=ridge_cv.alpha_)\n",
    "rd.fit(x_trains,y_train)\n",
    "\n",
    "y_pred_train = rd.predict(x_trains)\n",
    "y_pred_test = rd.predict(x_tests)\n",
    "\n",
    "r2_train = r2_score(y_train,y_pred_train)\n",
    "r2_test = r2_score(y_test, y_pred_test)\n",
    "\n",
    "print('R-square of train set:',r2_train)\n",
    "print('R-square of test set:',r2_test)"
   ]
  },
  {
   "cell_type": "markdown",
   "metadata": {
    "collapsed": true
   },
   "source": [
    "<table align=\"left\">\n",
    "    <tr>\n",
    "        <td width=\"6%\">\n",
    "            <img src=\"question_icon.png\">\n",
    "        </td>\n",
    "        <td>\n",
    "            <div align=\"left\", style=\"font-size:120%\">\n",
    "                <font color=\"#21618C\">\n",
    "                    <b>13. Build a model to study the impact of diseases and immunization on life expectancy. Identify the significant variables from the model. Use 'alpha = 1.5' if required.\n",
    "</b>\n",
    "                </font>\n",
    "            </div>\n",
    "        </td>\n",
    "    </tr>\n",
    "</table>"
   ]
  },
  {
   "cell_type": "code",
   "execution_count": 34,
   "metadata": {},
   "outputs": [
    {
     "data": {
      "text/html": [
       "<div>\n",
       "<style scoped>\n",
       "    .dataframe tbody tr th:only-of-type {\n",
       "        vertical-align: middle;\n",
       "    }\n",
       "\n",
       "    .dataframe tbody tr th {\n",
       "        vertical-align: top;\n",
       "    }\n",
       "\n",
       "    .dataframe thead th {\n",
       "        text-align: right;\n",
       "    }\n",
       "</style>\n",
       "<table border=\"1\" class=\"dataframe\">\n",
       "  <thead>\n",
       "    <tr style=\"text-align: right;\">\n",
       "      <th></th>\n",
       "      <th>rank</th>\n",
       "    </tr>\n",
       "  </thead>\n",
       "  <tbody>\n",
       "    <tr>\n",
       "      <td>Hepatitis B</td>\n",
       "      <td>0.000000</td>\n",
       "    </tr>\n",
       "    <tr>\n",
       "      <td>Polio</td>\n",
       "      <td>1.432667</td>\n",
       "    </tr>\n",
       "    <tr>\n",
       "      <td>Diphtheria</td>\n",
       "      <td>0.825970</td>\n",
       "    </tr>\n",
       "    <tr>\n",
       "      <td>HIV</td>\n",
       "      <td>-2.253377</td>\n",
       "    </tr>\n",
       "    <tr>\n",
       "      <td>Measles</td>\n",
       "      <td>-0.000000</td>\n",
       "    </tr>\n",
       "  </tbody>\n",
       "</table>\n",
       "</div>"
      ],
      "text/plain": [
       "                 rank\n",
       "Hepatitis B  0.000000\n",
       "Polio        1.432667\n",
       "Diphtheria   0.825970\n",
       "HIV         -2.253377\n",
       "Measles     -0.000000"
      ]
     },
     "execution_count": 34,
     "metadata": {},
     "output_type": "execute_result"
    }
   ],
   "source": [
    "# To find the significant variables, we go for Lasso regression as it is one of the feature selection technique.\n",
    "\n",
    "from sklearn.linear_model import Lasso, LassoCV\n",
    "\n",
    "y  = df['Life_Expectancy']\n",
    "x  = df[['Hepatitis B','Polio','Diphtheria ','HIV','Measles ']]\n",
    "\n",
    "x_train,x_test,y_train,y_test = train_test_split(x,y,train_size=0.7,random_state=4)\n",
    "\n",
    "ss=StandardScaler()\n",
    "xs = ss.fit_transform(x)\n",
    "x_trains = ss.fit_transform(x_train)\n",
    "x_tests = ss.transform(x_test)\n",
    "\n",
    "x_trains = pd.DataFrame(x_trains,columns=x.columns)\n",
    "x_tests = pd.DataFrame(x_tests,columns=x.columns)\n",
    "\n",
    "la = Lasso(alpha=1.5)\n",
    "la.fit(x_trains, y_train)\n",
    "\n",
    "pd.DataFrame(la.coef_,index=x.columns,columns=['rank'])"
   ]
  },
  {
   "cell_type": "raw",
   "metadata": {},
   "source": [
    "Coefficients with non-zero values are Signifiacnt. So, Polio, Diptheria, HIV are the significant varaibles."
   ]
  },
  {
   "cell_type": "markdown",
   "metadata": {
    "collapsed": true
   },
   "source": [
    "<table align=\"left\">\n",
    "    <tr>\n",
    "        <td width=\"6%\">\n",
    "            <img src=\"question_icon.png\">\n",
    "        </td>\n",
    "        <td>\n",
    "            <div align=\"left\", style=\"font-size:120%\">\n",
    "                <font color=\"#21618C\">\n",
    "                    <b>14. Build a model to study the impact of malnutrition and diseases on life expectancy. Identify the insignificant variables from the model. Use 'alpha = 1' if required.</b>\n",
    "                </font>\n",
    "            </div>\n",
    "        </td>\n",
    "    </tr>\n",
    "</table>"
   ]
  },
  {
   "cell_type": "code",
   "execution_count": 35,
   "metadata": {},
   "outputs": [
    {
     "data": {
      "text/html": [
       "<div>\n",
       "<style scoped>\n",
       "    .dataframe tbody tr th:only-of-type {\n",
       "        vertical-align: middle;\n",
       "    }\n",
       "\n",
       "    .dataframe tbody tr th {\n",
       "        vertical-align: top;\n",
       "    }\n",
       "\n",
       "    .dataframe thead th {\n",
       "        text-align: right;\n",
       "    }\n",
       "</style>\n",
       "<table border=\"1\" class=\"dataframe\">\n",
       "  <thead>\n",
       "    <tr style=\"text-align: right;\">\n",
       "      <th></th>\n",
       "      <th>rank</th>\n",
       "    </tr>\n",
       "  </thead>\n",
       "  <tbody>\n",
       "    <tr>\n",
       "      <td>Measles</td>\n",
       "      <td>-0.000000</td>\n",
       "    </tr>\n",
       "    <tr>\n",
       "      <td>HIV</td>\n",
       "      <td>-3.496946</td>\n",
       "    </tr>\n",
       "    <tr>\n",
       "      <td>Malnourished10_19</td>\n",
       "      <td>-0.000000</td>\n",
       "    </tr>\n",
       "    <tr>\n",
       "      <td>Malnourished5_9</td>\n",
       "      <td>-1.808678</td>\n",
       "    </tr>\n",
       "  </tbody>\n",
       "</table>\n",
       "</div>"
      ],
      "text/plain": [
       "                       rank\n",
       "Measles           -0.000000\n",
       "HIV               -3.496946\n",
       "Malnourished10_19 -0.000000\n",
       "Malnourished5_9   -1.808678"
      ]
     },
     "execution_count": 35,
     "metadata": {},
     "output_type": "execute_result"
    }
   ],
   "source": [
    "from sklearn.linear_model import Lasso, LassoCV\n",
    "\n",
    "y  = df['Life_Expectancy']\n",
    "x = df[['Measles ','HIV','Malnourished10_19','Malnourished5_9']]\n",
    "\n",
    "x_train,x_test,y_train,y_test = train_test_split(x,y)\n",
    "\n",
    "ss=StandardScaler()\n",
    "xs = ss.fit_transform(x)\n",
    "x_trains = ss.fit_transform(x_train)\n",
    "x_tests = ss.transform(x_test)\n",
    "\n",
    "x_trains = pd.DataFrame(x_trains,columns=x.columns)\n",
    "x_tests = pd.DataFrame(x_tests,columns=x.columns)\n",
    "\n",
    "lasso_reg = Lasso(alpha = 1)\n",
    "lasso_reg.fit(x_trains, y_train)\n",
    "\n",
    "pd.DataFrame(lasso_reg.coef_,index=x.columns,columns=['rank'])"
   ]
  },
  {
   "cell_type": "raw",
   "metadata": {},
   "source": [
    "Coefficients with zero values are Insignifiacnt. So, from above table, we can conclude that Measles and Malnourished10_19 are the insignificant varaible here with coefficient value=0."
   ]
  },
  {
   "cell_type": "markdown",
   "metadata": {
    "collapsed": true
   },
   "source": [
    "<table align=\"left\">\n",
    "    <tr>\n",
    "        <td width=\"6%\">\n",
    "            <img src=\"question_icon.png\">\n",
    "        </td>\n",
    "        <td>\n",
    "            <div align=\"left\", style=\"font-size:120%\">\n",
    "                <font color=\"#21618C\">\n",
    "                    <b>15. Build a full model using the elastic net regression. Use 'alpha = 0.1' and 'l1_ratio=0.001'. Also, compute the RMSE for train and test sets.\n",
    " </b>\n",
    "                </font>\n",
    "            </div>\n",
    "        </td>\n",
    "    </tr>\n",
    "</table>"
   ]
  },
  {
   "cell_type": "code",
   "execution_count": 36,
   "metadata": {
    "scrolled": true
   },
   "outputs": [
    {
     "name": "stdout",
     "output_type": "stream",
     "text": [
      "RMSE for train set:  10063243.591019088\n",
      "RMSE for test set:  15428856.343877738\n"
     ]
    }
   ],
   "source": [
    "from sklearn.linear_model import ElasticNet, ElasticNetCV\n",
    "\n",
    "y  = df['Life_Expectancy']\n",
    "x = df.drop('Life_Expectancy',axis=1)\n",
    "\n",
    "x_train,x_test,y_train,y_test = train_test_split(x,y)\n",
    "\n",
    "ss=StandardScaler()\n",
    "xs = ss.fit_transform(x)\n",
    "x_trains = ss.fit_transform(x_train)\n",
    "x_tests = ss.transform(x_test)\n",
    "\n",
    "x_trains = pd.DataFrame(x_trains,columns=x.columns)\n",
    "x_tests = pd.DataFrame(x_tests,columns=x.columns)\n",
    "\n",
    "enet = ElasticNet(alpha=0.1,l1_ratio=0.001)\n",
    "enet.fit(x_trains, y_train)\n",
    "\n",
    "y_train_pred = enet.predict(x_train)\n",
    "y_test_pred = enet.predict(x_test)\n",
    "\n",
    "rmse_train = np.sqrt(mean_squared_error(y_train, y_train_pred))\n",
    "rmse_test =  np.sqrt(mean_squared_error(y_test, y_test_pred))\n",
    "\n",
    "print('RMSE for train set: ',rmse_train)\n",
    "print('RMSE for test set: ',rmse_test)"
   ]
  },
  {
   "cell_type": "raw",
   "metadata": {},
   "source": [
    "There is huge difference of values of train rmse and test rmse. So the model is overfitted."
   ]
  },
  {
   "cell_type": "markdown",
   "metadata": {
    "collapsed": true
   },
   "source": [
    "<table align=\"left\">\n",
    "    <tr>\n",
    "        <td width=\"6%\">\n",
    "            <img src=\"question_icon.png\">\n",
    "        </td>\n",
    "        <td>\n",
    "            <div align=\"left\", style=\"font-size:120%\">\n",
    "                <font color=\"#21618C\">\n",
    "                    <b>16. Build a full model. Identify the features that are significantly influencing the life expectancy. Use 'alpha = 0.5' if required. </b>\n",
    "                </font>\n",
    "            </div>\n",
    "        </td>\n",
    "    </tr>\n",
    "</table>"
   ]
  },
  {
   "cell_type": "code",
   "execution_count": 37,
   "metadata": {},
   "outputs": [
    {
     "name": "stdout",
     "output_type": "stream",
     "text": [
      "The significant variables are:\n"
     ]
    },
    {
     "data": {
      "text/html": [
       "<div>\n",
       "<style scoped>\n",
       "    .dataframe tbody tr th:only-of-type {\n",
       "        vertical-align: middle;\n",
       "    }\n",
       "\n",
       "    .dataframe tbody tr th {\n",
       "        vertical-align: top;\n",
       "    }\n",
       "\n",
       "    .dataframe thead th {\n",
       "        text-align: right;\n",
       "    }\n",
       "</style>\n",
       "<table border=\"1\" class=\"dataframe\">\n",
       "  <thead>\n",
       "    <tr style=\"text-align: right;\">\n",
       "      <th></th>\n",
       "      <th>coefficients</th>\n",
       "    </tr>\n",
       "  </thead>\n",
       "  <tbody>\n",
       "    <tr>\n",
       "      <td>Year</td>\n",
       "      <td>0.570744</td>\n",
       "    </tr>\n",
       "    <tr>\n",
       "      <td>Infant_Deaths</td>\n",
       "      <td>3.288252</td>\n",
       "    </tr>\n",
       "    <tr>\n",
       "      <td>Hepatitis B</td>\n",
       "      <td>0.777051</td>\n",
       "    </tr>\n",
       "    <tr>\n",
       "      <td>Polio</td>\n",
       "      <td>0.156470</td>\n",
       "    </tr>\n",
       "    <tr>\n",
       "      <td>Diphtheria</td>\n",
       "      <td>0.214354</td>\n",
       "    </tr>\n",
       "    <tr>\n",
       "      <td>Income_Index</td>\n",
       "      <td>5.683519</td>\n",
       "    </tr>\n",
       "  </tbody>\n",
       "</table>\n",
       "</div>"
      ],
      "text/plain": [
       "               coefficients\n",
       "Year               0.570744\n",
       "Infant_Deaths      3.288252\n",
       "Hepatitis B        0.777051\n",
       "Polio              0.156470\n",
       "Diphtheria         0.214354\n",
       "Income_Index       5.683519"
      ]
     },
     "execution_count": 37,
     "metadata": {},
     "output_type": "execute_result"
    }
   ],
   "source": [
    "# for a model with all features, we should go for Ridge Regression\n",
    "\n",
    "from sklearn.linear_model import Ridge, RidgeCV\n",
    "\n",
    "y  = df['Life_Expectancy']\n",
    "x = df.drop('Life_Expectancy',axis=1)\n",
    "\n",
    "x_train,x_test,y_train,y_test = train_test_split(x,y)\n",
    "\n",
    "ss=StandardScaler()\n",
    "xs = ss.fit_transform(x)\n",
    "x_trains = ss.fit_transform(x_train)\n",
    "x_tests = ss.transform(x_test)\n",
    "\n",
    "x_trains = pd.DataFrame(x_trains,columns=x.columns)\n",
    "x_tests = pd.DataFrame(x_tests,columns=x.columns)\n",
    "\n",
    "rd = Ridge(alpha=0.5)\n",
    "rd.fit(x_trains, y_train)\n",
    "\n",
    "a=pd.DataFrame(rd.coef_,index=x.columns,columns=['coefficients'])\n",
    "\n",
    "print(\"The significant variables are:\")\n",
    "a[np.abs(a['coefficients']>0.00000)]\n"
   ]
  },
  {
   "cell_type": "markdown",
   "metadata": {},
   "source": [
    "<a id=\"gs\"> </a>\n",
    "## 5. Grid Search "
   ]
  },
  {
   "cell_type": "markdown",
   "metadata": {
    "collapsed": true
   },
   "source": [
    "<table align=\"left\">\n",
    "    <tr>\n",
    "        <td width=\"6%\">\n",
    "            <img src=\"question_icon.png\">\n",
    "        </td>\n",
    "        <td>\n",
    "            <div align=\"left\", style=\"font-size:120%\">\n",
    "                <font color=\"#21618C\">\n",
    "                    <b>17. If ridge regression is used to build a full model. Which value is the best alpha from the list of values?<br><br>Consider the alpha values: [7,8,9,10,11]</b>\n",
    "                </font>\n",
    "            </div>\n",
    "        </td>\n",
    "    </tr>\n",
    "</table>"
   ]
  },
  {
   "cell_type": "code",
   "execution_count": 47,
   "metadata": {},
   "outputs": [
    {
     "name": "stdout",
     "output_type": "stream",
     "text": [
      "The best alpha from the given list [7,8,9,10,11] is 7\n"
     ]
    }
   ],
   "source": [
    "from sklearn.linear_model import Ridge, RidgeCV\n",
    "\n",
    "y  = df['Life_Expectancy']\n",
    "x = df.drop('Life_Expectancy',axis=1)\n",
    "\n",
    "x_train,x_test,y_train,y_test = train_test_split(x,y,shuffle = True, random_state=4)\n",
    "\n",
    "ss = StandardScaler()\n",
    "x_trains = ss.fit_transform(x_train)\n",
    "x_tests = ss.transform(x_test)\n",
    "\n",
    "x_trains = pd.DataFrame(x_trains,columns=x.columns)\n",
    "x_tests = pd.DataFrame(x_tests, columns = x.columns)\n",
    "\n",
    "alphas = [7,8,9,10,11]\n",
    "ridge_cv = RidgeCV(alphas=alphas)\n",
    "ridge_cv.fit(x_trains,y_train)\n",
    "\n",
    "print(\"The best alpha from the given list [7,8,9,10,11] is\",ridge_cv.alpha_)"
   ]
  },
  {
   "cell_type": "code",
   "execution_count": 49,
   "metadata": {},
   "outputs": [
    {
     "name": "stdout",
     "output_type": "stream",
     "text": [
      "The best alpha from the given list [7,8,9,10,11] is 7\n"
     ]
    },
    {
     "name": "stderr",
     "output_type": "stream",
     "text": [
      "C:\\Users\\narendra\\Anaconda3\\lib\\site-packages\\sklearn\\model_selection\\_search.py:814: DeprecationWarning: The default of the `iid` parameter will change from True to False in version 0.22 and will be removed in 0.24. This will change numeric results when test-set sizes are unequal.\n",
      "  DeprecationWarning)\n"
     ]
    }
   ],
   "source": [
    "from sklearn.linear_model import Ridge, RidgeCV\n",
    "\n",
    "y  = df['Life_Expectancy']\n",
    "x = df.drop(columns = 'Life_Expectancy')\n",
    "\n",
    "ss = StandardScaler()\n",
    "xs = ss.fit_transform(x)\n",
    "\n",
    "\n",
    "alphas = [7,8,9,10,11]\n",
    "ridge_cv = RidgeCV(alphas=alphas,cv=5)\n",
    "ridge_cv.fit(xs,y)\n",
    "\n",
    "print(\"The best alpha from the given list [7,8,9,10,11] is\",ridge_cv.alpha_)"
   ]
  },
  {
   "cell_type": "markdown",
   "metadata": {
    "collapsed": true
   },
   "source": [
    "<table align=\"left\">\n",
    "    <tr>\n",
    "        <td width=\"6%\">\n",
    "            <img src=\"question_icon.png\">\n",
    "        </td>\n",
    "        <td>\n",
    "            <div align=\"left\", style=\"font-size:120%\">\n",
    "                <font color=\"#21618C\">\n",
    "                    <b>18. If lasso regression is used to build a full model. Which value is the best alpha from the list of values?<br><br>Consider the alpha values: [7,8,9,10,11]</b>\n",
    "                </font>\n",
    "            </div>\n",
    "        </td>\n",
    "    </tr>\n",
    "</table>"
   ]
  },
  {
   "cell_type": "code",
   "execution_count": 50,
   "metadata": {},
   "outputs": [
    {
     "name": "stdout",
     "output_type": "stream",
     "text": [
      "The best alpha from the given list [7,8,9,10,11] using lasso regression is 7\n"
     ]
    }
   ],
   "source": [
    "from sklearn.linear_model import Lasso, LassoCV\n",
    "\n",
    "y  = df['Life_Expectancy']\n",
    "x = df.drop(columns = 'Life_Expectancy')\n",
    "\n",
    "ss = StandardScaler()\n",
    "xs = ss.fit_transform(x)\n",
    "\n",
    "\n",
    "alphas = [7,8,9,10,11]\n",
    "lasso_cv = LassoCV(alphas=alphas,cv=5)\n",
    "lasso_cv.fit(xs,y)\n",
    "\n",
    "print(\"The best alpha from the given list [7,8,9,10,11] using lasso regression is\",lasso_cv.alpha_)"
   ]
  },
  {
   "cell_type": "markdown",
   "metadata": {
    "collapsed": true
   },
   "source": [
    "<table align=\"left\">\n",
    "    <tr>\n",
    "        <td width=\"6%\">\n",
    "            <img src=\"question_icon.png\">\n",
    "        </td>\n",
    "        <td>\n",
    "            <div align=\"left\", style=\"font-size:120%\">\n",
    "                <font color=\"#21618C\">\n",
    "                    <b>19. Perform regression analysis to study the impact of malnutrition and diseases on life expectancy. Determine the optimal value of alpha and mixing parameter if elastic net regression is used to build the model. Consider the following list of values:<br><br> alpha : [0.1,0.5,1,1.5,2,2.5,3,3.5,4]<br> l1_ratio : [0.5,0.55,0.6,0.65,0.7,0.75,0.8,0.85,0.9] </b>\n",
    "                </font>\n",
    "            </div>\n",
    "        </td>\n",
    "    </tr>\n",
    "</table>"
   ]
  },
  {
   "cell_type": "code",
   "execution_count": null,
   "metadata": {},
   "outputs": [],
   "source": [
    "from sklearn.linear_model import ElasticNet, ElasticNetCV\n",
    "\n",
    "y = df['Life_Expectancy']\n",
    "x = df[['Measles ','HIV','Malnourished10_19','Malnourished5_9']]\n",
    "\n"
   ]
  },
  {
   "cell_type": "code",
   "execution_count": null,
   "metadata": {},
   "outputs": [],
   "source": []
  },
  {
   "cell_type": "code",
   "execution_count": 40,
   "metadata": {},
   "outputs": [],
   "source": [
    "# type your code here"
   ]
  },
  {
   "cell_type": "markdown",
   "metadata": {
    "collapsed": true
   },
   "source": [
    "<table align=\"left\">\n",
    "    <tr>\n",
    "        <td width=\"6%\">\n",
    "            <img src=\"question_icon.png\">\n",
    "        </td>\n",
    "        <td>\n",
    "            <div align=\"left\", style=\"font-size:120%\">\n",
    "                <font color=\"#21618C\">\n",
    "                    <b>20. Build a full model. Select the optimal value for elastic net mixing parameter if the alpha value is 0.8<br><br>Consider the values: l1_ratio : [0.001, 0.005, 0.01, 0.05, 0.1, 0.5, 1]</b>\n",
    "                </font>\n",
    "            </div>\n",
    "        </td>\n",
    "    </tr>\n",
    "</table>"
   ]
  },
  {
   "cell_type": "code",
   "execution_count": 41,
   "metadata": {
    "scrolled": true
   },
   "outputs": [],
   "source": [
    "# type your code here"
   ]
  }
 ],
 "metadata": {
  "kernelspec": {
   "display_name": "Python 3",
   "language": "python",
   "name": "python3"
  },
  "language_info": {
   "codemirror_mode": {
    "name": "ipython",
    "version": 3
   },
   "file_extension": ".py",
   "mimetype": "text/x-python",
   "name": "python",
   "nbconvert_exporter": "python",
   "pygments_lexer": "ipython3",
   "version": "3.7.4"
  }
 },
 "nbformat": 4,
 "nbformat_minor": 2
}
